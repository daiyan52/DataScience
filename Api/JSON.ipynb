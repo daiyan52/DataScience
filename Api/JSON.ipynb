{
 "cells": [
  {
   "cell_type": "code",
   "execution_count": 1,
   "id": "cd73dd09",
   "metadata": {},
   "outputs": [],
   "source": [
    "import json"
   ]
  },
  {
   "cell_type": "code",
   "execution_count": 3,
   "id": "313d30d0",
   "metadata": {},
   "outputs": [
    {
     "name": "stdout",
     "output_type": "stream",
     "text": [
      "{\"Name\" : \"Daiyan\"}\n",
      "<class 'str'>\n"
     ]
    }
   ],
   "source": [
    "json_data = '{\"Name\" : \"Daiyan\"}'\n",
    "print(json_data)\n",
    "print(type(json_data))\n",
    "python_data = json.loads(json_data)"
   ]
  },
  {
   "cell_type": "code",
   "execution_count": 4,
   "id": "549bc03b",
   "metadata": {},
   "outputs": [
    {
     "name": "stdout",
     "output_type": "stream",
     "text": [
      "{'Name': 'Daiyan'}\n"
     ]
    }
   ],
   "source": [
    "print(python_data)"
   ]
  },
  {
   "cell_type": "code",
   "execution_count": 5,
   "id": "c9f14c77",
   "metadata": {},
   "outputs": [
    {
     "data": {
      "text/plain": [
       "'{\"Name\" : \"Daiyan\"}'"
      ]
     },
     "execution_count": 5,
     "metadata": {},
     "output_type": "execute_result"
    }
   ],
   "source": [
    "json_data"
   ]
  },
  {
   "cell_type": "code",
   "execution_count": 6,
   "id": "8581c4aa",
   "metadata": {},
   "outputs": [
    {
     "data": {
      "text/plain": [
       "dict"
      ]
     },
     "execution_count": 6,
     "metadata": {},
     "output_type": "execute_result"
    }
   ],
   "source": [
    "type(python_data)"
   ]
  },
  {
   "cell_type": "code",
   "execution_count": 7,
   "id": "99ea9f8e",
   "metadata": {},
   "outputs": [
    {
     "data": {
      "text/plain": [
       "str"
      ]
     },
     "execution_count": 7,
     "metadata": {},
     "output_type": "execute_result"
    }
   ],
   "source": [
    "type(json_data)"
   ]
  },
  {
   "cell_type": "code",
   "execution_count": 16,
   "id": "316c0217",
   "metadata": {},
   "outputs": [
    {
     "data": {
      "text/plain": [
       "{'student': {'Name': 'Daiyan', 'Roll_No': 52, 'stu_id': 'NIT/2020/0726'}}"
      ]
     },
     "execution_count": 16,
     "metadata": {},
     "output_type": "execute_result"
    }
   ],
   "source": [
    "json_data = '{\"student\":{\"Name\":\"Daiyan\",\"Roll_No\":52,\"stu_id\":\"NIT/2020/0726\"}}'\n",
    "python_data = json.loads(json_data)\n",
    "python_data"
   ]
  },
  {
   "cell_type": "code",
   "execution_count": 20,
   "id": "f4b30f09",
   "metadata": {},
   "outputs": [
    {
     "name": "stdout",
     "output_type": "stream",
     "text": [
      "<class 'str'>\n"
     ]
    }
   ],
   "source": [
    "print(type(json_data))"
   ]
  },
  {
   "cell_type": "code",
   "execution_count": 21,
   "id": "fd27c131",
   "metadata": {},
   "outputs": [
    {
     "name": "stdout",
     "output_type": "stream",
     "text": [
      "<class 'dict'>\n"
     ]
    }
   ],
   "source": [
    "print(type(python_data))"
   ]
  },
  {
   "cell_type": "code",
   "execution_count": 23,
   "id": "9f5bb9b4",
   "metadata": {},
   "outputs": [
    {
     "data": {
      "text/plain": [
       "{'Name': 'Daiyan', 'Roll_No': 52, 'stu_id': 'NIT/2020/0726'}"
      ]
     },
     "execution_count": 23,
     "metadata": {},
     "output_type": "execute_result"
    }
   ],
   "source": [
    "stu_details = python_data['student']\n",
    "stu_details"
   ]
  },
  {
   "cell_type": "code",
   "execution_count": 24,
   "id": "6ddfe5ca",
   "metadata": {},
   "outputs": [
    {
     "data": {
      "text/plain": [
       "52"
      ]
     },
     "execution_count": 24,
     "metadata": {},
     "output_type": "execute_result"
    }
   ],
   "source": [
    "stu_details['Roll_No']"
   ]
  },
  {
   "cell_type": "code",
   "execution_count": 25,
   "id": "5a29cec3",
   "metadata": {},
   "outputs": [
    {
     "name": "stdout",
     "output_type": "stream",
     "text": [
      "52\n"
     ]
    }
   ],
   "source": [
    "print(stu_details['Roll_No'])"
   ]
  },
  {
   "cell_type": "code",
   "execution_count": 26,
   "id": "2c2611da",
   "metadata": {},
   "outputs": [
    {
     "name": "stdout",
     "output_type": "stream",
     "text": [
      "<class 'int'>\n"
     ]
    }
   ],
   "source": [
    "print(type(stu_details['Roll_No']))"
   ]
  },
  {
   "cell_type": "code",
   "execution_count": 27,
   "id": "f82feeca",
   "metadata": {},
   "outputs": [
    {
     "name": "stdout",
     "output_type": "stream",
     "text": [
      "NIT/2020/0726\n"
     ]
    }
   ],
   "source": [
    "print(stu_details['stu_id'])"
   ]
  },
  {
   "cell_type": "code",
   "execution_count": 28,
   "id": "180b2535",
   "metadata": {},
   "outputs": [
    {
     "name": "stdout",
     "output_type": "stream",
     "text": [
      "<class 'str'>\n"
     ]
    }
   ],
   "source": [
    "print(type(stu_details['stu_id']))"
   ]
  },
  {
   "cell_type": "code",
   "execution_count": 29,
   "id": "62708767",
   "metadata": {},
   "outputs": [],
   "source": [
    "json_data = '{\"Fruit\":[\"Mango\",\"Apple\",\"Banana\",\"Guava\",\"Orange\"]}'\n",
    "python_data = json.loads(json_data)"
   ]
  },
  {
   "cell_type": "code",
   "execution_count": 30,
   "id": "e8ae6318",
   "metadata": {},
   "outputs": [
    {
     "name": "stdout",
     "output_type": "stream",
     "text": [
      "{'Fruit': ['Mango', 'Apple', 'Banana', 'Guava', 'Orange']}\n"
     ]
    }
   ],
   "source": [
    "print(python_data)"
   ]
  },
  {
   "cell_type": "code",
   "execution_count": 32,
   "id": "68f950b0",
   "metadata": {},
   "outputs": [
    {
     "name": "stdout",
     "output_type": "stream",
     "text": [
      "<class 'dict'>\n"
     ]
    }
   ],
   "source": [
    "print(type(python_data))"
   ]
  },
  {
   "cell_type": "code",
   "execution_count": 34,
   "id": "afa475a0",
   "metadata": {},
   "outputs": [
    {
     "name": "stdout",
     "output_type": "stream",
     "text": [
      "<class 'str'>\n"
     ]
    }
   ],
   "source": [
    "print(type(json_data))"
   ]
  },
  {
   "cell_type": "code",
   "execution_count": 36,
   "id": "6f48a7c9",
   "metadata": {},
   "outputs": [
    {
     "name": "stdout",
     "output_type": "stream",
     "text": [
      "Mango\n",
      "Apple\n",
      "Banana\n",
      "Guava\n",
      "Orange\n"
     ]
    }
   ],
   "source": [
    "for i in python_data['Fruit']:\n",
    "    print(i)"
   ]
  },
  {
   "cell_type": "code",
   "execution_count": 37,
   "id": "0348a7a3",
   "metadata": {},
   "outputs": [
    {
     "name": "stdout",
     "output_type": "stream",
     "text": [
      "<class 'list'>\n"
     ]
    }
   ],
   "source": [
    "print(type(python_data['Fruit']))"
   ]
  },
  {
   "cell_type": "code",
   "execution_count": null,
   "id": "112a442b",
   "metadata": {},
   "outputs": [],
   "source": []
  }
 ],
 "metadata": {
  "kernelspec": {
   "display_name": "Python 3 (ipykernel)",
   "language": "python",
   "name": "python3"
  },
  "language_info": {
   "codemirror_mode": {
    "name": "ipython",
    "version": 3
   },
   "file_extension": ".py",
   "mimetype": "text/x-python",
   "name": "python",
   "nbconvert_exporter": "python",
   "pygments_lexer": "ipython3",
   "version": "3.9.7"
  }
 },
 "nbformat": 4,
 "nbformat_minor": 5
}

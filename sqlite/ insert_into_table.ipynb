{
 "cells": [
  {
   "cell_type": "code",
   "execution_count": 1,
   "id": "652ae1d9",
   "metadata": {},
   "outputs": [],
   "source": [
    "import sqlite3"
   ]
  },
  {
   "cell_type": "code",
   "execution_count": 2,
   "id": "b84cce68",
   "metadata": {},
   "outputs": [
    {
     "data": {
      "text/plain": [
       "<sqlite3.Connection at 0x7faa58f24b70>"
      ]
     },
     "execution_count": 2,
     "metadata": {},
     "output_type": "execute_result"
    }
   ],
   "source": [
    "data = sqlite3.connect('School.sqlite')\n",
    "data"
   ]
  },
  {
   "cell_type": "code",
   "execution_count": 3,
   "id": "a0bca419",
   "metadata": {},
   "outputs": [],
   "source": [
    "cur = data.cursor()"
   ]
  },
  {
   "cell_type": "code",
   "execution_count": 4,
   "id": "ea99b2a2",
   "metadata": {},
   "outputs": [
    {
     "data": {
      "text/plain": [
       "<sqlite3.Cursor at 0x7faa5909b9d0>"
      ]
     },
     "execution_count": 4,
     "metadata": {},
     "output_type": "execute_result"
    }
   ],
   "source": [
    "cur.execute('Select *from Student')"
   ]
  },
  {
   "cell_type": "code",
   "execution_count": 5,
   "id": "ec6c802d",
   "metadata": {},
   "outputs": [
    {
     "name": "stdout",
     "output_type": "stream",
     "text": [
      "<sqlite3.Cursor object at 0x7faa5909b9d0>\n"
     ]
    }
   ],
   "source": [
    "print(cur)"
   ]
  },
  {
   "cell_type": "code",
   "execution_count": 6,
   "id": "b2d28697",
   "metadata": {},
   "outputs": [
    {
     "name": "stdout",
     "output_type": "stream",
     "text": [
      "(52, 'Daiyan Alam', 22)\n",
      "(55, 'Raju Kumar', 23)\n",
      "(62, 'Anish Yadaw', 20)\n"
     ]
    }
   ],
   "source": [
    "for i in cur:\n",
    "    print(i)"
   ]
  },
  {
   "cell_type": "code",
   "execution_count": 7,
   "id": "e6ed1ee8",
   "metadata": {},
   "outputs": [
    {
     "data": {
      "text/plain": [
       "<sqlite3.Cursor at 0x7faa5909b9d0>"
      ]
     },
     "execution_count": 7,
     "metadata": {},
     "output_type": "execute_result"
    }
   ],
   "source": [
    "cur.execute('insert into Student values(34,\"Sana\",22)')"
   ]
  },
  {
   "cell_type": "code",
   "execution_count": 8,
   "id": "43340ce1",
   "metadata": {},
   "outputs": [
    {
     "data": {
      "text/plain": [
       "<sqlite3.Cursor at 0x7faa5909b9d0>"
      ]
     },
     "execution_count": 8,
     "metadata": {},
     "output_type": "execute_result"
    }
   ],
   "source": [
    "cur.execute('insert into Student values(13,\"Priyanshu\",25)')"
   ]
  },
  {
   "cell_type": "code",
   "execution_count": 9,
   "id": "dc940d36",
   "metadata": {},
   "outputs": [
    {
     "data": {
      "text/plain": [
       "<sqlite3.Cursor at 0x7faa5909b9d0>"
      ]
     },
     "execution_count": 9,
     "metadata": {},
     "output_type": "execute_result"
    }
   ],
   "source": [
    "cur.execute('insert into Student values(44,\"Om\",19)')"
   ]
  },
  {
   "cell_type": "code",
   "execution_count": 10,
   "id": "5869511d",
   "metadata": {},
   "outputs": [
    {
     "data": {
      "text/plain": [
       "<sqlite3.Cursor at 0x7faa5909b9d0>"
      ]
     },
     "execution_count": 10,
     "metadata": {},
     "output_type": "execute_result"
    }
   ],
   "source": [
    "cur.execute('insert into Student values(17,\"Aditya\",20)')"
   ]
  },
  {
   "cell_type": "code",
   "execution_count": 11,
   "id": "435106e1",
   "metadata": {},
   "outputs": [
    {
     "data": {
      "text/plain": [
       "<sqlite3.Cursor at 0x7faa5909b9d0>"
      ]
     },
     "execution_count": 11,
     "metadata": {},
     "output_type": "execute_result"
    }
   ],
   "source": [
    "cur.execute('insert into Student values(46,\"Praveer\",21)')"
   ]
  },
  {
   "cell_type": "code",
   "execution_count": 12,
   "id": "5758785b",
   "metadata": {},
   "outputs": [
    {
     "data": {
      "text/plain": [
       "<sqlite3.Cursor at 0x7faa5909b9d0>"
      ]
     },
     "execution_count": 12,
     "metadata": {},
     "output_type": "execute_result"
    }
   ],
   "source": [
    "cur.execute('insert into Student values(61,\"Satyam\",12)')"
   ]
  },
  {
   "cell_type": "code",
   "execution_count": 13,
   "id": "8182ac71",
   "metadata": {},
   "outputs": [],
   "source": [
    "data.commit()"
   ]
  },
  {
   "cell_type": "code",
   "execution_count": 14,
   "id": "f8609000",
   "metadata": {},
   "outputs": [
    {
     "data": {
      "text/plain": [
       "[(52, 'Daiyan Alam', 22),\n",
       " (55, 'Raju Kumar', 23),\n",
       " (62, 'Anish Yadaw', 20),\n",
       " (34, 'Sana', 22),\n",
       " (13, 'Priyanshu', 25),\n",
       " (44, 'Om', 19),\n",
       " (17, 'Aditya', 20),\n",
       " (46, 'Praveer', 21),\n",
       " (61, 'Satyam', 12)]"
      ]
     },
     "execution_count": 14,
     "metadata": {},
     "output_type": "execute_result"
    }
   ],
   "source": [
    "cur.execute('select *from Student')\n",
    "cur.fetchall()"
   ]
  },
  {
   "cell_type": "code",
   "execution_count": null,
   "id": "0e0db9d9",
   "metadata": {},
   "outputs": [],
   "source": []
  }
 ],
 "metadata": {
  "kernelspec": {
   "display_name": "Python 3 (ipykernel)",
   "language": "python",
   "name": "python3"
  },
  "language_info": {
   "codemirror_mode": {
    "name": "ipython",
    "version": 3
   },
   "file_extension": ".py",
   "mimetype": "text/x-python",
   "name": "python",
   "nbconvert_exporter": "python",
   "pygments_lexer": "ipython3",
   "version": "3.9.7"
  }
 },
 "nbformat": 4,
 "nbformat_minor": 5
}

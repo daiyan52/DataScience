{
 "cells": [
  {
   "cell_type": "code",
   "execution_count": null,
   "id": "b4ac62fc",
   "metadata": {},
   "outputs": [],
   "source": [
    "import csv\n",
    "with open('/Users/daiyanalam/Documents/MachineLearnig/working_with_files/amazon_jobs_dataset.csv') as file_obj:\n",
    "    file_data = csv.reader(file_obj)\n",
    "    list_file = list(file_data)"
   ]
  },
  {
   "cell_type": "code",
   "execution_count": null,
   "id": "47c4b9d0",
   "metadata": {},
   "outputs": [],
   "source": [
    "file_data"
   ]
  },
  {
   "cell_type": "code",
   "execution_count": null,
   "id": "11e4ef02",
   "metadata": {},
   "outputs": [],
   "source": [
    "type(file_data)"
   ]
  },
  {
   "cell_type": "code",
   "execution_count": null,
   "id": "a60d7a44",
   "metadata": {},
   "outputs": [],
   "source": [
    "type(list_file)"
   ]
  },
  {
   "cell_type": "code",
   "execution_count": null,
   "id": "e0585e64",
   "metadata": {},
   "outputs": [],
   "source": [
    "list_file"
   ]
  },
  {
   "cell_type": "code",
   "execution_count": 2,
   "id": "f8b493cd",
   "metadata": {},
   "outputs": [],
   "source": [
    "import csv\n",
    "with open('/Users/daiyanalam/Documents/MachineLearnig/working_with_files/amazon_jobs_dataset.csv') as file_obj:\n",
    "    file_data = csv.DictReader(file_obj,skipinitialspace=True)\n",
    "    list_file = list(file_data)"
   ]
  },
  {
   "cell_type": "code",
   "execution_count": 3,
   "id": "ff11625d",
   "metadata": {},
   "outputs": [
    {
     "data": {
      "text/plain": [
       "csv.DictReader"
      ]
     },
     "execution_count": 3,
     "metadata": {},
     "output_type": "execute_result"
    }
   ],
   "source": [
    "type(file_data)"
   ]
  },
  {
   "cell_type": "code",
   "execution_count": 4,
   "id": "5ab5d75e",
   "metadata": {},
   "outputs": [
    {
     "data": {
      "text/plain": [
       "list"
      ]
     },
     "execution_count": 4,
     "metadata": {},
     "output_type": "execute_result"
    }
   ],
   "source": [
    "type(list_file)"
   ]
  },
  {
   "cell_type": "code",
   "execution_count": 7,
   "id": "05181df8",
   "metadata": {},
   "outputs": [
    {
     "name": "stdout",
     "output_type": "stream",
     "text": [
      "{'': '0', 'Title': 'Software Development Manager', 'location': 'US, WA, Seattle ', 'Posting_date': 'March  1, 2018', 'DESCRIPTION': 'You are an experienced hands-on manager with a background in developing and delivering software that simplifies solutions for a broad set of related problems. You have a strong technical ability, great communication skills, and know how to inspire your team to achieve outstanding results in a fast paced environment. You have a track record of building and leading strong teams of talented engineers and you enjoy working with smart people. In short - you are a skilled leader capable of getting great things done for your customers. If it sounds like you - then read on!As one of the largest companies in the cloud computing space across the world, Amazon Web Services (AWS) offers dozens of services and processes billions of usage records. Over the past 10 years, Amazon has become known across the globe as the most trusted company on the internet.The systems we build interpret and process a very high volume stream of events; often bundled with low-latency/real-time analysis to enable security and fraud detection.AWS Bill Generation team manages the computation engine responsible for generating charges to the customers. Every time any AWS service meters a usage by a customer, a record makes its way to the our computation engine. At the simplest level, the bill computation engine generates bill line items corresponding to usage. Every day the bill computation engine processes hundreds of millions of records. The computation engine is architected to enable us to scale to this computational load and grow with the rapidly growing AWS business.There are numerous highly varied scenarios that the bill computation engine handles: the common most one is that of tiering, i.e. charging customers at different rates based on usage. These tiers may be computed across multiple dimensions: across geographical regions, across accounts, or across services. One of the key goals of the bill computation engine is to build a highly scalable, general purpose multi-dimensional counter mechanism that enables us to support a very flexible set of pricing models. Another key goal is to make the bill computation engine \"declarative\". We want to make it super easy for sellers of cloud services to create complex pricing plans with minimal or no code changes whatsoever.Key Responsibilities:· Adopt overall AWS plans for AWS Commerce Platform and define your own team\\'s future direction.· · Manage projects that deliver on commitments to our customers.· · Manage day-to-day activities of engineering team using Agile/Scrum methodology.· · Manage team\\'s resources: hire, mentor, and grow the engineering team.· · Work closely with engineers to architect and develop the best technical solutions. Be a hands-on technical leader.· · Report on status of development, quality, operations, and system performance to management.', 'BASIC QUALIFICATIONS': \"· Proven track record of hiring and managing high performing engineering teams· Breadth and depth of experience building and managing software systems and teams· · Excellent written and verbal communication skills with the ability to present complex technical information in a clear and concise manner to executives and non-technical leaders· · Willingness to roll up your sleeves and do what's necessary to drive your projects to completion· · 6+ years of experience in Software development and 4+ years as a Development Manager· · Strong technical credentials, with expertise in OOP, Java or C++· · Experience with Linux/Unix systems· · Experience with SQL and No SQL data stores· · Bachelor's Degree in Computer Science or related degree\", 'PREFERRED QUALIFICATIONS': '· Experience building extremely high volume and highly scalable web services· · Eperience building highly available systems and operating 24x7 services· · Experience with distributed systems, consistent hashing, distributed locking, replication, and load balancing· · Master’s degree or PhD in Computer Science· · Working knowledge of Hadoop, MapReduce, or other Big Data processing platforms· · Working knowledge of Kafka, Storm, Spark Streaming, Kinesis, or other stream processing platforms'}\n"
     ]
    }
   ],
   "source": [
    "print(list_file[0])"
   ]
  },
  {
   "cell_type": "code",
   "execution_count": null,
   "id": "e603ee48",
   "metadata": {},
   "outputs": [],
   "source": []
  }
 ],
 "metadata": {
  "kernelspec": {
   "display_name": "Python 3 (ipykernel)",
   "language": "python",
   "name": "python3"
  },
  "language_info": {
   "codemirror_mode": {
    "name": "ipython",
    "version": 3
   },
   "file_extension": ".py",
   "mimetype": "text/x-python",
   "name": "python",
   "nbconvert_exporter": "python",
   "pygments_lexer": "ipython3",
   "version": "3.9.7"
  }
 },
 "nbformat": 4,
 "nbformat_minor": 5
}

{
 "cells": [
  {
   "cell_type": "code",
   "execution_count": 1,
   "id": "cca1afef",
   "metadata": {},
   "outputs": [],
   "source": [
    "import pandas as pd\n",
    "import csv"
   ]
  },
  {
   "cell_type": "code",
   "execution_count": 2,
   "id": "746e70ad",
   "metadata": {},
   "outputs": [
    {
     "data": {
      "text/html": [
       "<div>\n",
       "<style scoped>\n",
       "    .dataframe tbody tr th:only-of-type {\n",
       "        vertical-align: middle;\n",
       "    }\n",
       "\n",
       "    .dataframe tbody tr th {\n",
       "        vertical-align: top;\n",
       "    }\n",
       "\n",
       "    .dataframe thead th {\n",
       "        text-align: right;\n",
       "    }\n",
       "</style>\n",
       "<table border=\"1\" class=\"dataframe\">\n",
       "  <thead>\n",
       "    <tr style=\"text-align: right;\">\n",
       "      <th></th>\n",
       "      <th>Unnamed: 0</th>\n",
       "      <th>Title</th>\n",
       "      <th>location</th>\n",
       "      <th>Posting_date</th>\n",
       "      <th>DESCRIPTION</th>\n",
       "      <th>BASIC QUALIFICATIONS</th>\n",
       "      <th>PREFERRED QUALIFICATIONS</th>\n",
       "    </tr>\n",
       "  </thead>\n",
       "  <tbody>\n",
       "    <tr>\n",
       "      <th>0</th>\n",
       "      <td>0</td>\n",
       "      <td>Software Development Manager</td>\n",
       "      <td>US, WA, Seattle</td>\n",
       "      <td>March  1, 2018</td>\n",
       "      <td>You are an experienced hands-on manager with a...</td>\n",
       "      <td>· Proven track record of hiring and managing h...</td>\n",
       "      <td>· Experience building extremely high volume an...</td>\n",
       "    </tr>\n",
       "    <tr>\n",
       "      <th>1</th>\n",
       "      <td>1</td>\n",
       "      <td>Software Development Engineer</td>\n",
       "      <td>IN, KA, Bangalore</td>\n",
       "      <td>March  1, 2018</td>\n",
       "      <td>Amazon is driven by being “the world’s most cu...</td>\n",
       "      <td>· Bachelor’s Degree in Computer Science or rel...</td>\n",
       "      <td>· Experience building complex software systems...</td>\n",
       "    </tr>\n",
       "    <tr>\n",
       "      <th>2</th>\n",
       "      <td>2</td>\n",
       "      <td>Software Development Engineer</td>\n",
       "      <td>IN, KA, Bangalore</td>\n",
       "      <td>March  1, 2018</td>\n",
       "      <td>Amazon is driven by being “the world’s most cu...</td>\n",
       "      <td>· Bachelor’s Degree in Computer Science or rel...</td>\n",
       "      <td>· Experience building complex software systems...</td>\n",
       "    </tr>\n",
       "    <tr>\n",
       "      <th>3</th>\n",
       "      <td>3</td>\n",
       "      <td>Software Development Engineer - Amazon Lex</td>\n",
       "      <td>US, WA, Seattle</td>\n",
       "      <td>March  1, 2018</td>\n",
       "      <td>Have you ever wondered what it takes to build ...</td>\n",
       "      <td>· Bachelors Degree in Computer Science or a re...</td>\n",
       "      <td>· Masters or PhD in Computer Science· Experien...</td>\n",
       "    </tr>\n",
       "    <tr>\n",
       "      <th>4</th>\n",
       "      <td>4</td>\n",
       "      <td>Software Development Engineer - Amazon Lex</td>\n",
       "      <td>US, WA, Seattle</td>\n",
       "      <td>March  1, 2018</td>\n",
       "      <td>Have you ever wondered what it takes to build ...</td>\n",
       "      <td>· Bachelors Degree in Computer Science or a re...</td>\n",
       "      <td>· Masters or PhD in Computer Science· Experien...</td>\n",
       "    </tr>\n",
       "    <tr>\n",
       "      <th>...</th>\n",
       "      <td>...</td>\n",
       "      <td>...</td>\n",
       "      <td>...</td>\n",
       "      <td>...</td>\n",
       "      <td>...</td>\n",
       "      <td>...</td>\n",
       "      <td>...</td>\n",
       "    </tr>\n",
       "    <tr>\n",
       "      <th>3488</th>\n",
       "      <td>3488</td>\n",
       "      <td>Software Engineer</td>\n",
       "      <td>US, NV, Las Vegas</td>\n",
       "      <td>August 29, 2012</td>\n",
       "      <td>What are you currently doing? We’re building a...</td>\n",
       "      <td>· 5+ years production Java software developmen...</td>\n",
       "      <td>· 7+ years Java software development in a prod...</td>\n",
       "    </tr>\n",
       "    <tr>\n",
       "      <th>3489</th>\n",
       "      <td>3489</td>\n",
       "      <td>Software Development Engineer</td>\n",
       "      <td>US, WA, Seattle</td>\n",
       "      <td>April 23, 2012</td>\n",
       "      <td>At Amazon Voice and Advanced Natural Shopping ...</td>\n",
       "      <td>* Bachelor’s Degree in Computer Science or rel...</td>\n",
       "      <td>* Experience building complex software systems...</td>\n",
       "    </tr>\n",
       "    <tr>\n",
       "      <th>3490</th>\n",
       "      <td>3490</td>\n",
       "      <td>Software Development Engineer III - Mar. BR 2012</td>\n",
       "      <td>US, WA, Seattle</td>\n",
       "      <td>March  6, 2012</td>\n",
       "      <td>Employer: Amazon Corporate LLCPosition: Softwa...</td>\n",
       "      <td>Basic Qualifications:Education: Master’s degre...</td>\n",
       "      <td>-</td>\n",
       "    </tr>\n",
       "    <tr>\n",
       "      <th>3491</th>\n",
       "      <td>3491</td>\n",
       "      <td>Software Development Engineer in Test II - IMM546</td>\n",
       "      <td>US, WA, Seattle</td>\n",
       "      <td>November 28, 2011</td>\n",
       "      <td>POSITIONS AVAILABLECompany: Amazon Corporate L...</td>\n",
       "      <td>-</td>\n",
       "      <td>-</td>\n",
       "    </tr>\n",
       "    <tr>\n",
       "      <th>3492</th>\n",
       "      <td>3492</td>\n",
       "      <td>Software Development Engineer in Test</td>\n",
       "      <td>US, WA, Seattle</td>\n",
       "      <td>July  7, 2011</td>\n",
       "      <td>Kindle and Amazon are impacting the world with...</td>\n",
       "      <td>· Bachelor’s degree in Computer Science, Compu...</td>\n",
       "      <td>· Experience with open source tools and resour...</td>\n",
       "    </tr>\n",
       "  </tbody>\n",
       "</table>\n",
       "<p>3493 rows × 7 columns</p>\n",
       "</div>"
      ],
      "text/plain": [
       "      Unnamed: 0                                              Title  \\\n",
       "0              0                       Software Development Manager   \n",
       "1              1                      Software Development Engineer   \n",
       "2              2                      Software Development Engineer   \n",
       "3              3         Software Development Engineer - Amazon Lex   \n",
       "4              4         Software Development Engineer - Amazon Lex   \n",
       "...          ...                                                ...   \n",
       "3488        3488                                  Software Engineer   \n",
       "3489        3489                      Software Development Engineer   \n",
       "3490        3490   Software Development Engineer III - Mar. BR 2012   \n",
       "3491        3491  Software Development Engineer in Test II - IMM546   \n",
       "3492        3492              Software Development Engineer in Test   \n",
       "\n",
       "                location       Posting_date  \\\n",
       "0       US, WA, Seattle      March  1, 2018   \n",
       "1     IN, KA, Bangalore      March  1, 2018   \n",
       "2     IN, KA, Bangalore      March  1, 2018   \n",
       "3       US, WA, Seattle      March  1, 2018   \n",
       "4       US, WA, Seattle      March  1, 2018   \n",
       "...                  ...                ...   \n",
       "3488  US, NV, Las Vegas     August 29, 2012   \n",
       "3489    US, WA, Seattle      April 23, 2012   \n",
       "3490    US, WA, Seattle      March  6, 2012   \n",
       "3491    US, WA, Seattle   November 28, 2011   \n",
       "3492    US, WA, Seattle       July  7, 2011   \n",
       "\n",
       "                                            DESCRIPTION  \\\n",
       "0     You are an experienced hands-on manager with a...   \n",
       "1     Amazon is driven by being “the world’s most cu...   \n",
       "2     Amazon is driven by being “the world’s most cu...   \n",
       "3     Have you ever wondered what it takes to build ...   \n",
       "4     Have you ever wondered what it takes to build ...   \n",
       "...                                                 ...   \n",
       "3488  What are you currently doing? We’re building a...   \n",
       "3489  At Amazon Voice and Advanced Natural Shopping ...   \n",
       "3490  Employer: Amazon Corporate LLCPosition: Softwa...   \n",
       "3491  POSITIONS AVAILABLECompany: Amazon Corporate L...   \n",
       "3492  Kindle and Amazon are impacting the world with...   \n",
       "\n",
       "                                   BASIC QUALIFICATIONS  \\\n",
       "0     · Proven track record of hiring and managing h...   \n",
       "1     · Bachelor’s Degree in Computer Science or rel...   \n",
       "2     · Bachelor’s Degree in Computer Science or rel...   \n",
       "3     · Bachelors Degree in Computer Science or a re...   \n",
       "4     · Bachelors Degree in Computer Science or a re...   \n",
       "...                                                 ...   \n",
       "3488  · 5+ years production Java software developmen...   \n",
       "3489  * Bachelor’s Degree in Computer Science or rel...   \n",
       "3490  Basic Qualifications:Education: Master’s degre...   \n",
       "3491                                                  -   \n",
       "3492  · Bachelor’s degree in Computer Science, Compu...   \n",
       "\n",
       "                               PREFERRED QUALIFICATIONS  \n",
       "0     · Experience building extremely high volume an...  \n",
       "1     · Experience building complex software systems...  \n",
       "2     · Experience building complex software systems...  \n",
       "3     · Masters or PhD in Computer Science· Experien...  \n",
       "4     · Masters or PhD in Computer Science· Experien...  \n",
       "...                                                 ...  \n",
       "3488  · 7+ years Java software development in a prod...  \n",
       "3489  * Experience building complex software systems...  \n",
       "3490                                                  -  \n",
       "3491                                                  -  \n",
       "3492  · Experience with open source tools and resour...  \n",
       "\n",
       "[3493 rows x 7 columns]"
      ]
     },
     "execution_count": 2,
     "metadata": {},
     "output_type": "execute_result"
    }
   ],
   "source": [
    "amazon_job = pd.read_csv('/Users/daiyanalam/Documents/MachineLearnig/Dataset/amazon_jobs_dataset.csv')\n",
    "amazon_job"
   ]
  },
  {
   "cell_type": "code",
   "execution_count": 3,
   "id": "77778039",
   "metadata": {},
   "outputs": [
    {
     "data": {
      "text/plain": [
       "pandas.core.frame.DataFrame"
      ]
     },
     "execution_count": 3,
     "metadata": {},
     "output_type": "execute_result"
    }
   ],
   "source": [
    "type(amazon_job)"
   ]
  },
  {
   "cell_type": "code",
   "execution_count": 4,
   "id": "e483a03d",
   "metadata": {},
   "outputs": [],
   "source": [
    "df = amazon_job.copy()"
   ]
  },
  {
   "cell_type": "code",
   "execution_count": 5,
   "id": "24977181",
   "metadata": {},
   "outputs": [
    {
     "data": {
      "text/html": [
       "<div>\n",
       "<style scoped>\n",
       "    .dataframe tbody tr th:only-of-type {\n",
       "        vertical-align: middle;\n",
       "    }\n",
       "\n",
       "    .dataframe tbody tr th {\n",
       "        vertical-align: top;\n",
       "    }\n",
       "\n",
       "    .dataframe thead th {\n",
       "        text-align: right;\n",
       "    }\n",
       "</style>\n",
       "<table border=\"1\" class=\"dataframe\">\n",
       "  <thead>\n",
       "    <tr style=\"text-align: right;\">\n",
       "      <th></th>\n",
       "      <th>Unnamed: 0</th>\n",
       "      <th>Title</th>\n",
       "      <th>location</th>\n",
       "      <th>Posting_date</th>\n",
       "      <th>DESCRIPTION</th>\n",
       "      <th>BASIC QUALIFICATIONS</th>\n",
       "      <th>PREFERRED QUALIFICATIONS</th>\n",
       "    </tr>\n",
       "  </thead>\n",
       "  <tbody>\n",
       "    <tr>\n",
       "      <th>0</th>\n",
       "      <td>0</td>\n",
       "      <td>Software Development Manager</td>\n",
       "      <td>US, WA, Seattle</td>\n",
       "      <td>March  1, 2018</td>\n",
       "      <td>You are an experienced hands-on manager with a...</td>\n",
       "      <td>· Proven track record of hiring and managing h...</td>\n",
       "      <td>· Experience building extremely high volume an...</td>\n",
       "    </tr>\n",
       "    <tr>\n",
       "      <th>1</th>\n",
       "      <td>1</td>\n",
       "      <td>Software Development Engineer</td>\n",
       "      <td>IN, KA, Bangalore</td>\n",
       "      <td>March  1, 2018</td>\n",
       "      <td>Amazon is driven by being “the world’s most cu...</td>\n",
       "      <td>· Bachelor’s Degree in Computer Science or rel...</td>\n",
       "      <td>· Experience building complex software systems...</td>\n",
       "    </tr>\n",
       "    <tr>\n",
       "      <th>2</th>\n",
       "      <td>2</td>\n",
       "      <td>Software Development Engineer</td>\n",
       "      <td>IN, KA, Bangalore</td>\n",
       "      <td>March  1, 2018</td>\n",
       "      <td>Amazon is driven by being “the world’s most cu...</td>\n",
       "      <td>· Bachelor’s Degree in Computer Science or rel...</td>\n",
       "      <td>· Experience building complex software systems...</td>\n",
       "    </tr>\n",
       "    <tr>\n",
       "      <th>3</th>\n",
       "      <td>3</td>\n",
       "      <td>Software Development Engineer - Amazon Lex</td>\n",
       "      <td>US, WA, Seattle</td>\n",
       "      <td>March  1, 2018</td>\n",
       "      <td>Have you ever wondered what it takes to build ...</td>\n",
       "      <td>· Bachelors Degree in Computer Science or a re...</td>\n",
       "      <td>· Masters or PhD in Computer Science· Experien...</td>\n",
       "    </tr>\n",
       "    <tr>\n",
       "      <th>4</th>\n",
       "      <td>4</td>\n",
       "      <td>Software Development Engineer - Amazon Lex</td>\n",
       "      <td>US, WA, Seattle</td>\n",
       "      <td>March  1, 2018</td>\n",
       "      <td>Have you ever wondered what it takes to build ...</td>\n",
       "      <td>· Bachelors Degree in Computer Science or a re...</td>\n",
       "      <td>· Masters or PhD in Computer Science· Experien...</td>\n",
       "    </tr>\n",
       "  </tbody>\n",
       "</table>\n",
       "</div>"
      ],
      "text/plain": [
       "   Unnamed: 0                                       Title            location  \\\n",
       "0           0                Software Development Manager    US, WA, Seattle    \n",
       "1           1               Software Development Engineer  IN, KA, Bangalore    \n",
       "2           2               Software Development Engineer  IN, KA, Bangalore    \n",
       "3           3  Software Development Engineer - Amazon Lex    US, WA, Seattle    \n",
       "4           4  Software Development Engineer - Amazon Lex    US, WA, Seattle    \n",
       "\n",
       "     Posting_date                                        DESCRIPTION  \\\n",
       "0  March  1, 2018  You are an experienced hands-on manager with a...   \n",
       "1  March  1, 2018  Amazon is driven by being “the world’s most cu...   \n",
       "2  March  1, 2018  Amazon is driven by being “the world’s most cu...   \n",
       "3  March  1, 2018  Have you ever wondered what it takes to build ...   \n",
       "4  March  1, 2018  Have you ever wondered what it takes to build ...   \n",
       "\n",
       "                                BASIC QUALIFICATIONS  \\\n",
       "0  · Proven track record of hiring and managing h...   \n",
       "1  · Bachelor’s Degree in Computer Science or rel...   \n",
       "2  · Bachelor’s Degree in Computer Science or rel...   \n",
       "3  · Bachelors Degree in Computer Science or a re...   \n",
       "4  · Bachelors Degree in Computer Science or a re...   \n",
       "\n",
       "                            PREFERRED QUALIFICATIONS  \n",
       "0  · Experience building extremely high volume an...  \n",
       "1  · Experience building complex software systems...  \n",
       "2  · Experience building complex software systems...  \n",
       "3  · Masters or PhD in Computer Science· Experien...  \n",
       "4  · Masters or PhD in Computer Science· Experien...  "
      ]
     },
     "execution_count": 5,
     "metadata": {},
     "output_type": "execute_result"
    }
   ],
   "source": [
    "df.head()"
   ]
  },
  {
   "cell_type": "code",
   "execution_count": 6,
   "id": "b5946ba5",
   "metadata": {},
   "outputs": [
    {
     "data": {
      "text/plain": [
       "Index(['Unnamed: 0', 'Title', 'location', 'Posting_date', 'DESCRIPTION',\n",
       "       'BASIC QUALIFICATIONS', 'PREFERRED QUALIFICATIONS'],\n",
       "      dtype='object')"
      ]
     },
     "execution_count": 6,
     "metadata": {},
     "output_type": "execute_result"
    }
   ],
   "source": [
    "df.columns"
   ]
  },
  {
   "cell_type": "code",
   "execution_count": 7,
   "id": "a62ce765",
   "metadata": {},
   "outputs": [],
   "source": [
    "df.columns = ['NO','TITLE','LOCATION','POSTING_DATE','DESCRIPTION','BASIC QUALIFICATIONS','PREFERRED QUALIFICATIONS']"
   ]
  },
  {
   "cell_type": "code",
   "execution_count": 8,
   "id": "7f8fd9c4",
   "metadata": {},
   "outputs": [
    {
     "data": {
      "text/plain": [
       "Index(['NO', 'TITLE', 'LOCATION', 'POSTING_DATE', 'DESCRIPTION',\n",
       "       'BASIC QUALIFICATIONS', 'PREFERRED QUALIFICATIONS'],\n",
       "      dtype='object')"
      ]
     },
     "execution_count": 8,
     "metadata": {},
     "output_type": "execute_result"
    }
   ],
   "source": [
    "df.columns"
   ]
  },
  {
   "cell_type": "code",
   "execution_count": 9,
   "id": "2d6ecfe0",
   "metadata": {},
   "outputs": [
    {
     "data": {
      "text/html": [
       "<div>\n",
       "<style scoped>\n",
       "    .dataframe tbody tr th:only-of-type {\n",
       "        vertical-align: middle;\n",
       "    }\n",
       "\n",
       "    .dataframe tbody tr th {\n",
       "        vertical-align: top;\n",
       "    }\n",
       "\n",
       "    .dataframe thead th {\n",
       "        text-align: right;\n",
       "    }\n",
       "</style>\n",
       "<table border=\"1\" class=\"dataframe\">\n",
       "  <thead>\n",
       "    <tr style=\"text-align: right;\">\n",
       "      <th></th>\n",
       "      <th>NO</th>\n",
       "      <th>TITLE</th>\n",
       "      <th>LOCATION</th>\n",
       "      <th>POSTING_DATE</th>\n",
       "      <th>DESCRIPTION</th>\n",
       "      <th>BASIC QUALIFICATIONS</th>\n",
       "      <th>PREFERRED QUALIFICATIONS</th>\n",
       "    </tr>\n",
       "  </thead>\n",
       "  <tbody>\n",
       "    <tr>\n",
       "      <th>0</th>\n",
       "      <td>0</td>\n",
       "      <td>Software Development Manager</td>\n",
       "      <td>US, WA, Seattle</td>\n",
       "      <td>March  1, 2018</td>\n",
       "      <td>You are an experienced hands-on manager with a...</td>\n",
       "      <td>· Proven track record of hiring and managing h...</td>\n",
       "      <td>· Experience building extremely high volume an...</td>\n",
       "    </tr>\n",
       "    <tr>\n",
       "      <th>1</th>\n",
       "      <td>1</td>\n",
       "      <td>Software Development Engineer</td>\n",
       "      <td>IN, KA, Bangalore</td>\n",
       "      <td>March  1, 2018</td>\n",
       "      <td>Amazon is driven by being “the world’s most cu...</td>\n",
       "      <td>· Bachelor’s Degree in Computer Science or rel...</td>\n",
       "      <td>· Experience building complex software systems...</td>\n",
       "    </tr>\n",
       "    <tr>\n",
       "      <th>2</th>\n",
       "      <td>2</td>\n",
       "      <td>Software Development Engineer</td>\n",
       "      <td>IN, KA, Bangalore</td>\n",
       "      <td>March  1, 2018</td>\n",
       "      <td>Amazon is driven by being “the world’s most cu...</td>\n",
       "      <td>· Bachelor’s Degree in Computer Science or rel...</td>\n",
       "      <td>· Experience building complex software systems...</td>\n",
       "    </tr>\n",
       "    <tr>\n",
       "      <th>3</th>\n",
       "      <td>3</td>\n",
       "      <td>Software Development Engineer - Amazon Lex</td>\n",
       "      <td>US, WA, Seattle</td>\n",
       "      <td>March  1, 2018</td>\n",
       "      <td>Have you ever wondered what it takes to build ...</td>\n",
       "      <td>· Bachelors Degree in Computer Science or a re...</td>\n",
       "      <td>· Masters or PhD in Computer Science· Experien...</td>\n",
       "    </tr>\n",
       "    <tr>\n",
       "      <th>4</th>\n",
       "      <td>4</td>\n",
       "      <td>Software Development Engineer - Amazon Lex</td>\n",
       "      <td>US, WA, Seattle</td>\n",
       "      <td>March  1, 2018</td>\n",
       "      <td>Have you ever wondered what it takes to build ...</td>\n",
       "      <td>· Bachelors Degree in Computer Science or a re...</td>\n",
       "      <td>· Masters or PhD in Computer Science· Experien...</td>\n",
       "    </tr>\n",
       "  </tbody>\n",
       "</table>\n",
       "</div>"
      ],
      "text/plain": [
       "   NO                                       TITLE            LOCATION  \\\n",
       "0   0                Software Development Manager    US, WA, Seattle    \n",
       "1   1               Software Development Engineer  IN, KA, Bangalore    \n",
       "2   2               Software Development Engineer  IN, KA, Bangalore    \n",
       "3   3  Software Development Engineer - Amazon Lex    US, WA, Seattle    \n",
       "4   4  Software Development Engineer - Amazon Lex    US, WA, Seattle    \n",
       "\n",
       "     POSTING_DATE                                        DESCRIPTION  \\\n",
       "0  March  1, 2018  You are an experienced hands-on manager with a...   \n",
       "1  March  1, 2018  Amazon is driven by being “the world’s most cu...   \n",
       "2  March  1, 2018  Amazon is driven by being “the world’s most cu...   \n",
       "3  March  1, 2018  Have you ever wondered what it takes to build ...   \n",
       "4  March  1, 2018  Have you ever wondered what it takes to build ...   \n",
       "\n",
       "                                BASIC QUALIFICATIONS  \\\n",
       "0  · Proven track record of hiring and managing h...   \n",
       "1  · Bachelor’s Degree in Computer Science or rel...   \n",
       "2  · Bachelor’s Degree in Computer Science or rel...   \n",
       "3  · Bachelors Degree in Computer Science or a re...   \n",
       "4  · Bachelors Degree in Computer Science or a re...   \n",
       "\n",
       "                            PREFERRED QUALIFICATIONS  \n",
       "0  · Experience building extremely high volume an...  \n",
       "1  · Experience building complex software systems...  \n",
       "2  · Experience building complex software systems...  \n",
       "3  · Masters or PhD in Computer Science· Experien...  \n",
       "4  · Masters or PhD in Computer Science· Experien...  "
      ]
     },
     "execution_count": 9,
     "metadata": {},
     "output_type": "execute_result"
    }
   ],
   "source": [
    "df.head()"
   ]
  },
  {
   "cell_type": "code",
   "execution_count": 10,
   "id": "f944b770",
   "metadata": {},
   "outputs": [
    {
     "data": {
      "text/html": [
       "<div>\n",
       "<style scoped>\n",
       "    .dataframe tbody tr th:only-of-type {\n",
       "        vertical-align: middle;\n",
       "    }\n",
       "\n",
       "    .dataframe tbody tr th {\n",
       "        vertical-align: top;\n",
       "    }\n",
       "\n",
       "    .dataframe thead th {\n",
       "        text-align: right;\n",
       "    }\n",
       "</style>\n",
       "<table border=\"1\" class=\"dataframe\">\n",
       "  <thead>\n",
       "    <tr style=\"text-align: right;\">\n",
       "      <th></th>\n",
       "      <th>NO</th>\n",
       "      <th>TITLE</th>\n",
       "      <th>LOCATION</th>\n",
       "      <th>POSTING_DATE</th>\n",
       "      <th>DESCRIPTION</th>\n",
       "      <th>BASIC QUALIFICATIONS</th>\n",
       "      <th>PREFERRED QUALIFICATIONS</th>\n",
       "    </tr>\n",
       "  </thead>\n",
       "  <tbody>\n",
       "    <tr>\n",
       "      <th>0</th>\n",
       "      <td>False</td>\n",
       "      <td>False</td>\n",
       "      <td>False</td>\n",
       "      <td>False</td>\n",
       "      <td>False</td>\n",
       "      <td>False</td>\n",
       "      <td>False</td>\n",
       "    </tr>\n",
       "    <tr>\n",
       "      <th>1</th>\n",
       "      <td>False</td>\n",
       "      <td>False</td>\n",
       "      <td>False</td>\n",
       "      <td>False</td>\n",
       "      <td>False</td>\n",
       "      <td>False</td>\n",
       "      <td>False</td>\n",
       "    </tr>\n",
       "    <tr>\n",
       "      <th>2</th>\n",
       "      <td>False</td>\n",
       "      <td>False</td>\n",
       "      <td>False</td>\n",
       "      <td>False</td>\n",
       "      <td>False</td>\n",
       "      <td>False</td>\n",
       "      <td>False</td>\n",
       "    </tr>\n",
       "    <tr>\n",
       "      <th>3</th>\n",
       "      <td>False</td>\n",
       "      <td>False</td>\n",
       "      <td>False</td>\n",
       "      <td>False</td>\n",
       "      <td>False</td>\n",
       "      <td>False</td>\n",
       "      <td>False</td>\n",
       "    </tr>\n",
       "    <tr>\n",
       "      <th>4</th>\n",
       "      <td>False</td>\n",
       "      <td>False</td>\n",
       "      <td>False</td>\n",
       "      <td>False</td>\n",
       "      <td>False</td>\n",
       "      <td>False</td>\n",
       "      <td>False</td>\n",
       "    </tr>\n",
       "    <tr>\n",
       "      <th>...</th>\n",
       "      <td>...</td>\n",
       "      <td>...</td>\n",
       "      <td>...</td>\n",
       "      <td>...</td>\n",
       "      <td>...</td>\n",
       "      <td>...</td>\n",
       "      <td>...</td>\n",
       "    </tr>\n",
       "    <tr>\n",
       "      <th>3488</th>\n",
       "      <td>False</td>\n",
       "      <td>False</td>\n",
       "      <td>False</td>\n",
       "      <td>False</td>\n",
       "      <td>False</td>\n",
       "      <td>False</td>\n",
       "      <td>False</td>\n",
       "    </tr>\n",
       "    <tr>\n",
       "      <th>3489</th>\n",
       "      <td>False</td>\n",
       "      <td>False</td>\n",
       "      <td>False</td>\n",
       "      <td>False</td>\n",
       "      <td>False</td>\n",
       "      <td>False</td>\n",
       "      <td>False</td>\n",
       "    </tr>\n",
       "    <tr>\n",
       "      <th>3490</th>\n",
       "      <td>False</td>\n",
       "      <td>False</td>\n",
       "      <td>False</td>\n",
       "      <td>False</td>\n",
       "      <td>False</td>\n",
       "      <td>False</td>\n",
       "      <td>False</td>\n",
       "    </tr>\n",
       "    <tr>\n",
       "      <th>3491</th>\n",
       "      <td>False</td>\n",
       "      <td>False</td>\n",
       "      <td>False</td>\n",
       "      <td>False</td>\n",
       "      <td>False</td>\n",
       "      <td>False</td>\n",
       "      <td>False</td>\n",
       "    </tr>\n",
       "    <tr>\n",
       "      <th>3492</th>\n",
       "      <td>False</td>\n",
       "      <td>False</td>\n",
       "      <td>False</td>\n",
       "      <td>False</td>\n",
       "      <td>False</td>\n",
       "      <td>False</td>\n",
       "      <td>False</td>\n",
       "    </tr>\n",
       "  </tbody>\n",
       "</table>\n",
       "<p>3493 rows × 7 columns</p>\n",
       "</div>"
      ],
      "text/plain": [
       "         NO  TITLE  LOCATION  POSTING_DATE  DESCRIPTION  BASIC QUALIFICATIONS  \\\n",
       "0     False  False     False         False        False                 False   \n",
       "1     False  False     False         False        False                 False   \n",
       "2     False  False     False         False        False                 False   \n",
       "3     False  False     False         False        False                 False   \n",
       "4     False  False     False         False        False                 False   \n",
       "...     ...    ...       ...           ...          ...                   ...   \n",
       "3488  False  False     False         False        False                 False   \n",
       "3489  False  False     False         False        False                 False   \n",
       "3490  False  False     False         False        False                 False   \n",
       "3491  False  False     False         False        False                 False   \n",
       "3492  False  False     False         False        False                 False   \n",
       "\n",
       "      PREFERRED QUALIFICATIONS  \n",
       "0                        False  \n",
       "1                        False  \n",
       "2                        False  \n",
       "3                        False  \n",
       "4                        False  \n",
       "...                        ...  \n",
       "3488                     False  \n",
       "3489                     False  \n",
       "3490                     False  \n",
       "3491                     False  \n",
       "3492                     False  \n",
       "\n",
       "[3493 rows x 7 columns]"
      ]
     },
     "execution_count": 10,
     "metadata": {},
     "output_type": "execute_result"
    }
   ],
   "source": [
    "df.isnull()"
   ]
  },
  {
   "cell_type": "code",
   "execution_count": 11,
   "id": "be11b4fe",
   "metadata": {},
   "outputs": [
    {
     "data": {
      "text/plain": [
       "NO                          0\n",
       "TITLE                       0\n",
       "LOCATION                    0\n",
       "POSTING_DATE                0\n",
       "DESCRIPTION                 9\n",
       "BASIC QUALIFICATIONS        9\n",
       "PREFERRED QUALIFICATIONS    9\n",
       "dtype: int64"
      ]
     },
     "execution_count": 11,
     "metadata": {},
     "output_type": "execute_result"
    }
   ],
   "source": [
    "df.isnull().sum()"
   ]
  },
  {
   "cell_type": "code",
   "execution_count": 12,
   "id": "24044db4",
   "metadata": {},
   "outputs": [
    {
     "data": {
      "text/plain": [
       "0          March  1, 2018\n",
       "1          March  1, 2018\n",
       "2          March  1, 2018\n",
       "3          March  1, 2018\n",
       "4          March  1, 2018\n",
       "              ...        \n",
       "3488      August 29, 2012\n",
       "3489       April 23, 2012\n",
       "3490       March  6, 2012\n",
       "3491    November 28, 2011\n",
       "3492        July  7, 2011\n",
       "Name: POSTING_DATE, Length: 3493, dtype: object"
      ]
     },
     "execution_count": 12,
     "metadata": {},
     "output_type": "execute_result"
    }
   ],
   "source": [
    "df['POSTING_DATE']"
   ]
  },
  {
   "cell_type": "code",
   "execution_count": 13,
   "id": "aaa6196a",
   "metadata": {},
   "outputs": [],
   "source": [
    "a=0\n",
    "b=0\n",
    "c=0\n",
    "d=0\n",
    "e=0\n",
    "f=0\n",
    "g=0\n",
    "h=0\n",
    "year = []\n",
    "for i in df['POSTING_DATE']:\n",
    "    if i[-1]=='1':\n",
    "        a=a+1\n",
    "    elif i[-1]=='2':\n",
    "        b=b+1\n",
    "    elif i[-1]=='3':\n",
    "        c=c+1\n",
    "    elif i[-1]=='4':\n",
    "        d=d+1\n",
    "    elif i[-1]=='5':\n",
    "        e=e+1\n",
    "    elif i[-1]=='6':\n",
    "        f=f+1\n",
    "    elif i[-1]=='7':\n",
    "        g=g+1\n",
    "    elif i[-1]=='8':\n",
    "        h=h+1\n",
    "        \n",
    "        "
   ]
  },
  {
   "cell_type": "code",
   "execution_count": null,
   "id": "ee67a2e0",
   "metadata": {},
   "outputs": [],
   "source": []
  },
  {
   "cell_type": "code",
   "execution_count": 14,
   "id": "8deca2d9",
   "metadata": {},
   "outputs": [],
   "source": [
    "import matplotlib.pyplot as plt\n"
   ]
  },
  {
   "cell_type": "code",
   "execution_count": 15,
   "id": "f6f1b137",
   "metadata": {},
   "outputs": [],
   "source": [
    "year.append(a)\n",
    "year.append(b)\n",
    "year.append(c)\n",
    "year.append(d)\n",
    "year.append(e)\n",
    "year.append(f)\n",
    "year.append(g)\n",
    "year.append(h)\n"
   ]
  },
  {
   "cell_type": "code",
   "execution_count": 16,
   "id": "985e0f0f",
   "metadata": {},
   "outputs": [
    {
     "data": {
      "text/plain": [
       "[2, 7, 3, 5, 29, 123, 1614, 1710]"
      ]
     },
     "execution_count": 16,
     "metadata": {},
     "output_type": "execute_result"
    }
   ],
   "source": [
    "year"
   ]
  },
  {
   "cell_type": "code",
   "execution_count": 17,
   "id": "66e45b03",
   "metadata": {},
   "outputs": [
    {
     "data": {
      "text/plain": [
       "3493"
      ]
     },
     "execution_count": 17,
     "metadata": {},
     "output_type": "execute_result"
    }
   ],
   "source": [
    "sum(year)"
   ]
  },
  {
   "cell_type": "code",
   "execution_count": 19,
   "id": "8dd70d40",
   "metadata": {},
   "outputs": [
    {
     "data": {
      "text/plain": [
       "[2, 7, 3, 5, 29, 123, 1614, 1710]"
      ]
     },
     "execution_count": 19,
     "metadata": {},
     "output_type": "execute_result"
    }
   ],
   "source": [
    "year"
   ]
  },
  {
   "cell_type": "code",
   "execution_count": 45,
   "id": "35906f5f",
   "metadata": {},
   "outputs": [
    {
     "data": {
      "image/png": "[encoded data removed]",
      "text/plain": [
       "<Figure size 432x288 with 1 Axes>"
      ]
     },
     "metadata": {},
     "output_type": "display_data"
    }
   ],
   "source": [
    "plt.pie(year)\n",
    "#plt.pie(year,autopct='%0.1f%%')\n",
    "plt.show()"
   ]
  },
  {
   "cell_type": "code",
   "execution_count": 31,
   "id": "20d8f424",
   "metadata": {},
   "outputs": [],
   "source": [
    "job_year = ['2011','2012','2013','2014','2015','2016','2017','2018']"
   ]
  },
  {
   "cell_type": "code",
   "execution_count": 49,
   "id": "1ab821e8",
   "metadata": {},
   "outputs": [
    {
     "data": {
      "image/png": "[encoded data removed]",
      "text/plain": [
       "<Figure size 432x288 with 1 Axes>"
      ]
     },
     "metadata": {
      "needs_background": "light"
     },
     "output_type": "display_data"
    }
   ],
   "source": [
    "plt.bar(job_year,year,edgecolor='red',color='black')\n",
    "plt.show()"
   ]
  },
  {
   "cell_type": "code",
   "execution_count": null,
   "id": "8dbe60b0",
   "metadata": {},
   "outputs": [],
   "source": []
  }
 ],
 "metadata": {
  "kernelspec": {
   "display_name": "Python 3 (ipykernel)",
   "language": "python",
   "name": "python3"
  },
  "language_info": {
   "codemirror_mode": {
    "name": "ipython",
    "version": 3
   },
   "file_extension": ".py",
   "mimetype": "text/x-python",
   "name": "python",
   "nbconvert_exporter": "python",
   "pygments_lexer": "ipython3",
   "version": "3.9.7"
  }
 },
 "nbformat": 4,
 "nbformat_minor": 5
}

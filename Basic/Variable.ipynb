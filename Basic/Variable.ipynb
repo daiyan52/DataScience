{
 "cells": [
  {
   "cell_type": "markdown",
   "id": "001dd0a3",
   "metadata": {},
   "source": [
    "### variables"
   ]
  },
  {
   "cell_type": "code",
   "execution_count": null,
   "id": "054cac37",
   "metadata": {},
   "outputs": [],
   "source": [
    "a = 5\n",
    "print(type(a))"
   ]
  },
  {
   "cell_type": "code",
   "execution_count": null,
   "id": "360493c9",
   "metadata": {},
   "outputs": [],
   "source": [
    "name =\"Daiyan\"\n",
    "name"
   ]
  },
  {
   "cell_type": "code",
   "execution_count": null,
   "id": "e4d1138a",
   "metadata": {},
   "outputs": [],
   "source": [
    "print(name)\n",
    "print(type(name))"
   ]
  },
  {
   "cell_type": "code",
   "execution_count": null,
   "id": "ef7c8abd",
   "metadata": {},
   "outputs": [],
   "source": [
    "a = 3\n",
    "b =9\n",
    "a+b"
   ]
  },
  {
   "cell_type": "code",
   "execution_count": null,
   "id": "0af07b63",
   "metadata": {},
   "outputs": [],
   "source": [
    "print(a+b)"
   ]
  },
  {
   "cell_type": "markdown",
   "id": "80e89a9d",
   "metadata": {},
   "source": [
    "### numbers"
   ]
  },
  {
   "cell_type": "code",
   "execution_count": null,
   "id": "874713db",
   "metadata": {},
   "outputs": [],
   "source": [
    "a = 5+5j\n",
    "print(a)\n",
    "print(type(a))"
   ]
  },
  {
   "cell_type": "code",
   "execution_count": null,
   "id": "d932f532",
   "metadata": {},
   "outputs": [],
   "source": [
    "b = 5-6j\n",
    "print(type(b))"
   ]
  },
  {
   "cell_type": "code",
   "execution_count": null,
   "id": "bac0cc11",
   "metadata": {},
   "outputs": [],
   "source": [
    "a =10;\n",
    "print(id(a))\n",
    "a=a+1\n",
    "print(id(a))"
   ]
  },
  {
   "cell_type": "code",
   "execution_count": null,
   "id": "d5e419cf",
   "metadata": {},
   "outputs": [],
   "source": [
    "a = 12\n",
    "b = 12\n",
    "print(id(a))\n",
    "print(id(b))"
   ]
  },
  {
   "cell_type": "code",
   "execution_count": null,
   "id": "ac350e80",
   "metadata": {},
   "outputs": [],
   "source": [
    "a=15\n",
    "b=16\n",
    "print(id(a))\n",
    "print(id(b))"
   ]
  },
  {
   "cell_type": "code",
   "execution_count": null,
   "id": "b01d9049",
   "metadata": {},
   "outputs": [],
   "source": [
    "a = 1500\n",
    "b = 1200\n",
    "print(id(a))\n",
    "print(id(b))"
   ]
  },
  {
   "cell_type": "markdown",
   "id": "a43db150",
   "metadata": {},
   "source": [
    "### Range of Integer"
   ]
  },
  {
   "cell_type": "markdown",
   "id": "624ebf0d",
   "metadata": {},
   "source": [
    "### There is no limit in python"
   ]
  },
  {
   "cell_type": "markdown",
   "id": "b95ac36b",
   "metadata": {},
   "source": [
    " ### Arithmetic Operators"
   ]
  },
  {
   "cell_type": "code",
   "execution_count": null,
   "id": "781d82ae",
   "metadata": {},
   "outputs": [],
   "source": [
    "a=5\n",
    "b=7\n",
    "print(a+b)\n",
    "print(a-b)"
   ]
  },
  {
   "cell_type": "code",
   "execution_count": null,
   "id": "1b6b15af",
   "metadata": {},
   "outputs": [],
   "source": [
    "print(a/b)   #floating point division"
   ]
  },
  {
   "cell_type": "code",
   "execution_count": null,
   "id": "577c49eb",
   "metadata": {},
   "outputs": [],
   "source": [
    "print(a//b)   #integer point division"
   ]
  },
  {
   "cell_type": "code",
   "execution_count": null,
   "id": "8fbf999a",
   "metadata": {},
   "outputs": [],
   "source": [
    "print(b//a)   #integer point division"
   ]
  },
  {
   "cell_type": "code",
   "execution_count": null,
   "id": "e49d818e",
   "metadata": {},
   "outputs": [],
   "source": [
    "print(a**b)  # exponentiation"
   ]
  },
  {
   "cell_type": "code",
   "execution_count": null,
   "id": "6a8cf958",
   "metadata": {},
   "outputs": [],
   "source": [
    "print(a**2)"
   ]
  },
  {
   "cell_type": "code",
   "execution_count": null,
   "id": "b191f929",
   "metadata": {},
   "outputs": [],
   "source": [
    "print(a%b)    # gives remainder"
   ]
  },
  {
   "cell_type": "code",
   "execution_count": null,
   "id": "f4185022",
   "metadata": {},
   "outputs": [],
   "source": [
    "2+3*4   # 14 or 20"
   ]
  },
  {
   "cell_type": "code",
   "execution_count": null,
   "id": "7454ceac",
   "metadata": {},
   "outputs": [],
   "source": [
    "2*3/4  # does not matter what operation done first"
   ]
  },
  {
   "cell_type": "code",
   "execution_count": null,
   "id": "24b94edc",
   "metadata": {},
   "outputs": [],
   "source": [
    "(2*3)//5"
   ]
  },
  {
   "cell_type": "markdown",
   "id": "73877a63",
   "metadata": {},
   "source": [
    "\n",
    "### Input"
   ]
  },
  {
   "cell_type": "code",
   "execution_count": null,
   "id": "8e1b4cc0",
   "metadata": {},
   "outputs": [],
   "source": [
    "a = input()\n",
    "print(a)"
   ]
  },
  {
   "cell_type": "code",
   "execution_count": null,
   "id": "67bf6de6",
   "metadata": {},
   "outputs": [],
   "source": [
    "print(type(a))"
   ]
  },
  {
   "cell_type": "code",
   "execution_count": null,
   "id": "aec826a1",
   "metadata": {},
   "outputs": [],
   "source": [
    "a = int(input())\n",
    "print(type(a))"
   ]
  },
  {
   "cell_type": "code",
   "execution_count": null,
   "id": "d555fbe4",
   "metadata": {},
   "outputs": [],
   "source": [
    "a = int(input(\"Enter num1_  \"))\n",
    "b = int(input(\"ENter num2_  \"))\n",
    "c = int(input(\"Enter num3_  \"))\n",
    "if a>=b and a>=c:\n",
    "    print(a)\n",
    "elif b>=c and b>=a:\n",
    "    print(b)\n",
    "else:\n",
    "    print(c)"
   ]
  },
  {
   "cell_type": "code",
   "execution_count": null,
   "id": "ec01483e",
   "metadata": {},
   "outputs": [],
   "source": [
    "a =5\n",
    "if a<6:\n",
    "    print('Hiii')\n",
    "elif a==5:\n",
    "    print('Helllo')\n",
    "else:\n",
    "    print('Kaise ho?')"
   ]
  },
  {
   "cell_type": "code",
   "execution_count": null,
   "id": "28097f7f",
   "metadata": {},
   "outputs": [],
   "source": [
    "a =5\n",
    "if a<6:\n",
    "    print('Hiii')\n",
    "if a==5:\n",
    "    print('Helllo')\n",
    "else:\n",
    "    print('Kaise ho?')"
   ]
  },
  {
   "cell_type": "markdown",
   "id": "76522b3f",
   "metadata": {},
   "source": [
    "### boolean"
   ]
  },
  {
   "cell_type": "code",
   "execution_count": null,
   "id": "1a9d88c6",
   "metadata": {},
   "outputs": [],
   "source": [
    "a = 10\n",
    "b = 23\n",
    "print(a>b)"
   ]
  },
  {
   "cell_type": "code",
   "execution_count": null,
   "id": "ce570f5e",
   "metadata": {},
   "outputs": [],
   "source": [
    "print(a<b)"
   ]
  },
  {
   "cell_type": "markdown",
   "id": "0be87a37",
   "metadata": {},
   "source": [
    "### Relational"
   ]
  },
  {
   "cell_type": "code",
   "execution_count": null,
   "id": "58a4fa68",
   "metadata": {},
   "outputs": [],
   "source": [
    "a = 50\n",
    "b = 15\n",
    "print(a>10 and a>2)"
   ]
  },
  {
   "cell_type": "code",
   "execution_count": null,
   "id": "ba744987",
   "metadata": {},
   "outputs": [],
   "source": [
    "a = 50\n",
    "b = 15\n",
    "print(a>10 and a>20)"
   ]
  },
  {
   "cell_type": "code",
   "execution_count": null,
   "id": "eb320bff",
   "metadata": {},
   "outputs": [],
   "source": [
    "a = 4\n",
    "b = 4\n",
    "print(a!=b)"
   ]
  },
  {
   "cell_type": "markdown",
   "id": "056fb0bd",
   "metadata": {},
   "source": [
    "### Loop"
   ]
  },
  {
   "cell_type": "markdown",
   "id": "74e95a31",
   "metadata": {},
   "source": [
    "### prime check"
   ]
  },
  {
   "cell_type": "code",
   "execution_count": null,
   "id": "3d4a66d9",
   "metadata": {},
   "outputs": [],
   "source": [
    "n = int(input('Enter num'))\n",
    "flag=0\n",
    "for i in range(2,(n//2+1)):\n",
    "    if n%i==0:\n",
    "        flag=1\n",
    "        break\n",
    "if(flag==0):\n",
    "    print('Prime number:')\n",
    "else:\n",
    "    print('Not Prime')"
   ]
  },
  {
   "cell_type": "code",
   "execution_count": null,
   "id": "0526d2f0",
   "metadata": {},
   "outputs": [],
   "source": [
    "n = int(input(\"Enter nth term\"))\n",
    "i=1\n",
    "while i<=n: \n",
    "    print(i,end=' ')\n",
    "    i=i+1\n",
    "    "
   ]
  },
  {
   "cell_type": "markdown",
   "id": "b9ff7c1c",
   "metadata": {},
   "source": [
    "### sum of nth term"
   ]
  },
  {
   "cell_type": "code",
   "execution_count": null,
   "id": "f9c0475f",
   "metadata": {},
   "outputs": [],
   "source": [
    "n= int(input('Enter nth term'))\n",
    "i=1\n",
    "sum =0\n",
    "while i<=n:\n",
    "    sum = sum + i\n",
    "    i=i+1\n",
    "print(sum)"
   ]
  },
  {
   "cell_type": "code",
   "execution_count": null,
   "id": "e46104ab",
   "metadata": {},
   "outputs": [],
   "source": [
    "\n",
    "n = int(input())\n",
    "i=1\n",
    "while i<=n:\n",
    "    j=1\n",
    "    while j<=n:\n",
    "        print(\"*\",end=' ')\n",
    "        j=j+1\n",
    "    print()\n",
    "    i=i+1"
   ]
  },
  {
   "cell_type": "code",
   "execution_count": null,
   "id": "b1b7f520",
   "metadata": {},
   "outputs": [],
   "source": [
    "n = int(input(\"Enter num of lines\"))\n",
    "i=1\n",
    "while i<=n:\n",
    "    j=1\n",
    "    while j<=i:\n",
    "        print(\"*\",end=' ')\n",
    "        j=j+1\n",
    "    print()\n",
    "    i=i+1"
   ]
  },
  {
   "cell_type": "markdown",
   "id": "0112de2f",
   "metadata": {},
   "source": [
    "###  for Loop"
   ]
  },
  {
   "cell_type": "code",
   "execution_count": null,
   "id": "dd38564c",
   "metadata": {},
   "outputs": [],
   "source": [
    "name = \"daiyan\"\n",
    "for i in name:\n",
    "    print(i,end=\" \")"
   ]
  },
  {
   "cell_type": "markdown",
   "id": "d281a6b4",
   "metadata": {},
   "source": [
    "### print number for 1 to n"
   ]
  },
  {
   "cell_type": "code",
   "execution_count": null,
   "id": "2108be6b",
   "metadata": {},
   "outputs": [],
   "source": [
    "# range(start,stop,stride)\n",
    "n = int(input('Enter num'))\n",
    "for i in range(1,n+1,1):\n",
    "    print(i,end=' ')"
   ]
  },
  {
   "cell_type": "code",
   "execution_count": null,
   "id": "97a95b91",
   "metadata": {},
   "outputs": [],
   "source": [
    "#print number for n to 1\n",
    "n = int(input())\n",
    "for i in range(n,0,-1):\n",
    "    print(i,end=' ')"
   ]
  },
  {
   "cell_type": "code",
   "execution_count": null,
   "id": "707d2eee",
   "metadata": {},
   "outputs": [],
   "source": [
    "# print multiple of 3 where a<b\n",
    "\n",
    "a = int(input())\n",
    "b = int(input())\n",
    "for i in range(a,b+1,1):\n",
    "    if i%3==0:\n",
    "        print(i,end=' ')"
   ]
  },
  {
   "cell_type": "code",
   "execution_count": 3,
   "id": "93d354c0",
   "metadata": {},
   "outputs": [
    {
     "name": "stdout",
     "output_type": "stream",
     "text": [
      "3\n",
      "90\n",
      "3 6 9 12 15 18 21 24 27 30 33 36 39 42 45 48 51 54 57 60 63 66 69 72 75 78 81 84 87 90 "
     ]
    }
   ],
   "source": [
    "a = int(input())\n",
    "b = int(input())\n",
    "if a%3==0:\n",
    "    s=a\n",
    "elif a%3==1:\n",
    "    s=a+2\n",
    "else:\n",
    "    s=a+1\n",
    "for i in range(s,b+1,3):\n",
    "    print(i,end=' ')"
   ]
  },
  {
   "cell_type": "code",
   "execution_count": 21,
   "id": "a7cf1338",
   "metadata": {},
   "outputs": [
    {
     "name": "stdout",
     "output_type": "stream",
     "text": [
      "99\n",
      "Not Prime\n"
     ]
    }
   ],
   "source": [
    "# check prime number\n",
    "n = int(input())\n",
    "flag=False\n",
    "for i in range(2,n,1):\n",
    "    if n%i==0:\n",
    "        flag=True\n",
    "        break\n",
    "if flag:\n",
    "    print('Not Prime')\n",
    "else:\n",
    "    print('Prime')"
   ]
  },
  {
   "cell_type": "markdown",
   "id": "8eeb9325",
   "metadata": {},
   "source": [
    "### paas statement"
   ]
  },
  {
   "cell_type": "code",
   "execution_count": 23,
   "id": "fd702f99",
   "metadata": {},
   "outputs": [
    {
     "name": "stdout",
     "output_type": "stream",
     "text": [
      "Hello\n"
     ]
    }
   ],
   "source": [
    "i=3\n",
    "if i<7:\n",
    "    pass\n",
    "print(\"Hello\")"
   ]
  },
  {
   "cell_type": "code",
   "execution_count": 3,
   "id": "422e7137",
   "metadata": {},
   "outputs": [
    {
     "name": "stdout",
     "output_type": "stream",
     "text": [
      "Hello 10\n"
     ]
    }
   ],
   "source": [
    "i=5\n",
    "while i<10:\n",
    "    pass\n",
    "    i=i+1\n",
    "print('Hello',i)"
   ]
  },
  {
   "cell_type": "code",
   "execution_count": 5,
   "id": "6b4362da",
   "metadata": {},
   "outputs": [
    {
     "name": "stdout",
     "output_type": "stream",
     "text": [
      "9 Hello\n"
     ]
    }
   ],
   "source": [
    "\n",
    "for i in range(1,10):\n",
    "    pass\n",
    "print(i,'Hello')"
   ]
  },
  {
   "cell_type": "code",
   "execution_count": null,
   "id": "7382a276",
   "metadata": {},
   "outputs": [],
   "source": []
  }
 ],
 "metadata": {
  "kernelspec": {
   "display_name": "Python 3 (ipykernel)",
   "language": "python",
   "name": "python3"
  },
  "language_info": {
   "codemirror_mode": {
    "name": "ipython",
    "version": 3
   },
   "file_extension": ".py",
   "mimetype": "text/x-python",
   "name": "python",
   "nbconvert_exporter": "python",
   "pygments_lexer": "ipython3",
   "version": "3.9.7"
  }
 },
 "nbformat": 4,
 "nbformat_minor": 5
}

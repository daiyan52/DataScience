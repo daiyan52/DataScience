{
 "cells": [
  {
   "cell_type": "markdown",
   "id": "7305b633",
   "metadata": {},
   "source": [
    "##  Dictionary"
   ]
  },
  {
   "cell_type": "markdown",
   "id": "89e50ab0",
   "metadata": {},
   "source": [
    "### Dictionary is mutable"
   ]
  },
  {
   "cell_type": "code",
   "execution_count": 1,
   "id": "13ded3cb",
   "metadata": {},
   "outputs": [],
   "source": [
    "a = {}"
   ]
  },
  {
   "cell_type": "code",
   "execution_count": 2,
   "id": "83b03f88",
   "metadata": {},
   "outputs": [
    {
     "data": {
      "text/plain": [
       "dict"
      ]
     },
     "execution_count": 2,
     "metadata": {},
     "output_type": "execute_result"
    }
   ],
   "source": [
    "type(a)"
   ]
  },
  {
   "cell_type": "code",
   "execution_count": 3,
   "id": "2e9dc160",
   "metadata": {},
   "outputs": [],
   "source": [
    "d = {52:'Daiyan',55:'Raju',62:'Anish'}"
   ]
  },
  {
   "cell_type": "code",
   "execution_count": 4,
   "id": "ca4e438f",
   "metadata": {},
   "outputs": [
    {
     "data": {
      "text/plain": [
       "{52: 'Daiyan', 55: 'Raju', 62: 'Anish'}"
      ]
     },
     "execution_count": 4,
     "metadata": {},
     "output_type": "execute_result"
    }
   ],
   "source": [
    "d"
   ]
  },
  {
   "cell_type": "code",
   "execution_count": 5,
   "id": "984df597",
   "metadata": {},
   "outputs": [
    {
     "data": {
      "text/plain": [
       "dict_keys([52, 55, 62])"
      ]
     },
     "execution_count": 5,
     "metadata": {},
     "output_type": "execute_result"
    }
   ],
   "source": [
    "d.keys()"
   ]
  },
  {
   "cell_type": "code",
   "execution_count": 6,
   "id": "f5c491b4",
   "metadata": {},
   "outputs": [
    {
     "name": "stdout",
     "output_type": "stream",
     "text": [
      "dict_keys([52, 55, 62])\n"
     ]
    }
   ],
   "source": [
    "print(d.keys())"
   ]
  },
  {
   "cell_type": "code",
   "execution_count": 7,
   "id": "f5e189e4",
   "metadata": {},
   "outputs": [
    {
     "data": {
      "text/plain": [
       "dict_values(['Daiyan', 'Raju', 'Anish'])"
      ]
     },
     "execution_count": 7,
     "metadata": {},
     "output_type": "execute_result"
    }
   ],
   "source": [
    "d.values()"
   ]
  },
  {
   "cell_type": "code",
   "execution_count": 8,
   "id": "5dbf63e5",
   "metadata": {},
   "outputs": [
    {
     "data": {
      "text/plain": [
       "'Raju'"
      ]
     },
     "execution_count": 8,
     "metadata": {},
     "output_type": "execute_result"
    }
   ],
   "source": [
    "d[55]"
   ]
  },
  {
   "cell_type": "code",
   "execution_count": 9,
   "id": "8acc3695",
   "metadata": {},
   "outputs": [
    {
     "data": {
      "text/plain": [
       "dict"
      ]
     },
     "execution_count": 9,
     "metadata": {},
     "output_type": "execute_result"
    }
   ],
   "source": [
    "type(d)"
   ]
  },
  {
   "cell_type": "code",
   "execution_count": 10,
   "id": "6952e8fa",
   "metadata": {},
   "outputs": [],
   "source": [
    "l = list(d)"
   ]
  },
  {
   "cell_type": "code",
   "execution_count": 11,
   "id": "9ff6e4d7",
   "metadata": {},
   "outputs": [
    {
     "data": {
      "text/plain": [
       "[52, 55, 62]"
      ]
     },
     "execution_count": 11,
     "metadata": {},
     "output_type": "execute_result"
    }
   ],
   "source": [
    "l"
   ]
  },
  {
   "cell_type": "code",
   "execution_count": 12,
   "id": "045718fd",
   "metadata": {},
   "outputs": [
    {
     "data": {
      "text/plain": [
       "list"
      ]
     },
     "execution_count": 12,
     "metadata": {},
     "output_type": "execute_result"
    }
   ],
   "source": [
    "type(l)"
   ]
  },
  {
   "cell_type": "code",
   "execution_count": 13,
   "id": "9953f7c4",
   "metadata": {},
   "outputs": [
    {
     "data": {
      "text/plain": [
       "{52: 'Daiyan', 55: 'Raju', 62: 'Anish'}"
      ]
     },
     "execution_count": 13,
     "metadata": {},
     "output_type": "execute_result"
    }
   ],
   "source": [
    "d"
   ]
  },
  {
   "cell_type": "code",
   "execution_count": 14,
   "id": "2b630198",
   "metadata": {},
   "outputs": [
    {
     "data": {
      "text/plain": [
       "dict_items([(52, 'Daiyan'), (55, 'Raju'), (62, 'Anish')])"
      ]
     },
     "execution_count": 14,
     "metadata": {},
     "output_type": "execute_result"
    }
   ],
   "source": [
    "d.items()"
   ]
  },
  {
   "cell_type": "code",
   "execution_count": 15,
   "id": "eaaee9a3",
   "metadata": {},
   "outputs": [
    {
     "name": "stdout",
     "output_type": "stream",
     "text": [
      "52\n",
      "55\n",
      "62\n"
     ]
    }
   ],
   "source": [
    "for i in d:\n",
    "    print(i)"
   ]
  },
  {
   "cell_type": "code",
   "execution_count": 16,
   "id": "5530ff09",
   "metadata": {},
   "outputs": [
    {
     "name": "stdout",
     "output_type": "stream",
     "text": [
      "Daiyan\n",
      "Raju\n",
      "Anish\n"
     ]
    }
   ],
   "source": [
    "for i in d:\n",
    "    print(d.get(i))"
   ]
  },
  {
   "cell_type": "code",
   "execution_count": 17,
   "id": "2e70fd65",
   "metadata": {},
   "outputs": [
    {
     "name": "stdout",
     "output_type": "stream",
     "text": [
      "52 Daiyan\n",
      "55 Raju\n",
      "62 Anish\n"
     ]
    }
   ],
   "source": [
    "for i in d:\n",
    "    print(i,d[i])"
   ]
  },
  {
   "cell_type": "code",
   "execution_count": 18,
   "id": "e2d96b21",
   "metadata": {},
   "outputs": [
    {
     "name": "stdout",
     "output_type": "stream",
     "text": [
      "Daiyan Raju Anish "
     ]
    }
   ],
   "source": [
    "for i in d.values():\n",
    "    print(i,end=' ')"
   ]
  },
  {
   "cell_type": "code",
   "execution_count": 19,
   "id": "6da72565",
   "metadata": {},
   "outputs": [
    {
     "name": "stdout",
     "output_type": "stream",
     "text": [
      "52 55 62 "
     ]
    }
   ],
   "source": [
    "for i in d.keys():\n",
    "    print(i,end=' ')"
   ]
  },
  {
   "cell_type": "code",
   "execution_count": 20,
   "id": "304b2fce",
   "metadata": {},
   "outputs": [
    {
     "data": {
      "text/plain": [
       "True"
      ]
     },
     "execution_count": 20,
     "metadata": {},
     "output_type": "execute_result"
    }
   ],
   "source": [
    "55 in d"
   ]
  },
  {
   "cell_type": "code",
   "execution_count": 21,
   "id": "30cc91d7",
   "metadata": {},
   "outputs": [
    {
     "data": {
      "text/plain": [
       "False"
      ]
     },
     "execution_count": 21,
     "metadata": {},
     "output_type": "execute_result"
    }
   ],
   "source": [
    "34 in d"
   ]
  },
  {
   "cell_type": "code",
   "execution_count": 22,
   "id": "2cbeb999",
   "metadata": {},
   "outputs": [],
   "source": [
    "d[34] ='sana'"
   ]
  },
  {
   "cell_type": "code",
   "execution_count": 23,
   "id": "0103f6e0",
   "metadata": {},
   "outputs": [
    {
     "data": {
      "text/plain": [
       "{52: 'Daiyan', 55: 'Raju', 62: 'Anish', 34: 'sana'}"
      ]
     },
     "execution_count": 23,
     "metadata": {},
     "output_type": "execute_result"
    }
   ],
   "source": [
    "d"
   ]
  },
  {
   "cell_type": "code",
   "execution_count": 24,
   "id": "344fb1f3",
   "metadata": {},
   "outputs": [
    {
     "data": {
      "text/plain": [
       "{52: 'Daiyan', 55: 'Raju', 62: 'Anish', 34: 'sana'}"
      ]
     },
     "execution_count": 24,
     "metadata": {},
     "output_type": "execute_result"
    }
   ],
   "source": [
    "d"
   ]
  },
  {
   "cell_type": "code",
   "execution_count": 25,
   "id": "7c5f6f75",
   "metadata": {},
   "outputs": [],
   "source": [
    "e = {51:'NIT',54:'IIT',62:'ITI'}\n"
   ]
  },
  {
   "cell_type": "code",
   "execution_count": 26,
   "id": "53234d3f",
   "metadata": {},
   "outputs": [
    {
     "data": {
      "text/plain": [
       "{51: 'NIT', 54: 'IIT', 62: 'ITI'}"
      ]
     },
     "execution_count": 26,
     "metadata": {},
     "output_type": "execute_result"
    }
   ],
   "source": [
    "e"
   ]
  },
  {
   "cell_type": "code",
   "execution_count": 27,
   "id": "d419ef7a",
   "metadata": {},
   "outputs": [],
   "source": [
    "a.update(d)"
   ]
  },
  {
   "cell_type": "code",
   "execution_count": 28,
   "id": "90cc5fb0",
   "metadata": {},
   "outputs": [
    {
     "data": {
      "text/plain": [
       "{52: 'Daiyan', 55: 'Raju', 62: 'Anish', 34: 'sana'}"
      ]
     },
     "execution_count": 28,
     "metadata": {},
     "output_type": "execute_result"
    }
   ],
   "source": [
    "a"
   ]
  },
  {
   "cell_type": "code",
   "execution_count": 29,
   "id": "083f2ffa",
   "metadata": {},
   "outputs": [
    {
     "data": {
      "text/plain": [
       "{52: 'Daiyan', 55: 'Raju', 62: 'Anish', 34: 'sana'}"
      ]
     },
     "execution_count": 29,
     "metadata": {},
     "output_type": "execute_result"
    }
   ],
   "source": [
    "d"
   ]
  },
  {
   "cell_type": "code",
   "execution_count": 30,
   "id": "2e44eca0",
   "metadata": {},
   "outputs": [],
   "source": [
    "d.clear()  # clear all data but not delete"
   ]
  },
  {
   "cell_type": "code",
   "execution_count": 31,
   "id": "b95eba85",
   "metadata": {},
   "outputs": [
    {
     "data": {
      "text/plain": [
       "{}"
      ]
     },
     "execution_count": 31,
     "metadata": {},
     "output_type": "execute_result"
    }
   ],
   "source": [
    "d"
   ]
  },
  {
   "cell_type": "code",
   "execution_count": 32,
   "id": "e5787794",
   "metadata": {},
   "outputs": [],
   "source": [
    "del d  # dict deleted"
   ]
  },
  {
   "cell_type": "markdown",
   "id": "7b75a45c",
   "metadata": {},
   "source": [
    "### print all words with frequency k"
   ]
  },
  {
   "cell_type": "code",
   "execution_count": 33,
   "id": "1665ef67",
   "metadata": {},
   "outputs": [
    {
     "data": {
      "text/plain": [
       "'this is a word string having many many word with simple word'"
      ]
     },
     "execution_count": 33,
     "metadata": {},
     "output_type": "execute_result"
    }
   ],
   "source": [
    "s = \"this is a word string having many many word with simple word\"\n",
    "s"
   ]
  },
  {
   "cell_type": "code",
   "execution_count": 34,
   "id": "b9077866",
   "metadata": {},
   "outputs": [],
   "source": [
    "word = s.split()"
   ]
  },
  {
   "cell_type": "code",
   "execution_count": 35,
   "id": "8dffa46b",
   "metadata": {},
   "outputs": [
    {
     "data": {
      "text/plain": [
       "['this',\n",
       " 'is',\n",
       " 'a',\n",
       " 'word',\n",
       " 'string',\n",
       " 'having',\n",
       " 'many',\n",
       " 'many',\n",
       " 'word',\n",
       " 'with',\n",
       " 'simple',\n",
       " 'word']"
      ]
     },
     "execution_count": 35,
     "metadata": {},
     "output_type": "execute_result"
    }
   ],
   "source": [
    "word"
   ]
  },
  {
   "cell_type": "code",
   "execution_count": 36,
   "id": "fc8c1c23",
   "metadata": {},
   "outputs": [
    {
     "name": "stdout",
     "output_type": "stream",
     "text": [
      "['this', 'is', 'a', 'word', 'string', 'having', 'many', 'many', 'word', 'with', 'simple', 'word']\n"
     ]
    }
   ],
   "source": [
    "print(word)"
   ]
  },
  {
   "cell_type": "code",
   "execution_count": 37,
   "id": "dc3ecb80",
   "metadata": {},
   "outputs": [
    {
     "data": {
      "text/plain": [
       "{}"
      ]
     },
     "execution_count": 37,
     "metadata": {},
     "output_type": "execute_result"
    }
   ],
   "source": [
    "d = {}\n",
    "d"
   ]
  },
  {
   "cell_type": "code",
   "execution_count": 39,
   "id": "14bd969d",
   "metadata": {},
   "outputs": [],
   "source": [
    "for w in word:\n",
    "    if w in d:\n",
    "        d[w] = d[w]+1\n",
    "    else:\n",
    "        d[w]=1"
   ]
  },
  {
   "cell_type": "code",
   "execution_count": 40,
   "id": "6a63165f",
   "metadata": {},
   "outputs": [
    {
     "data": {
      "text/plain": [
       "{'this': 1,\n",
       " 'is': 1,\n",
       " 'a': 1,\n",
       " 'word': 3,\n",
       " 'string': 1,\n",
       " 'having': 1,\n",
       " 'many': 2,\n",
       " 'with': 1,\n",
       " 'simple': 1}"
      ]
     },
     "execution_count": 40,
     "metadata": {},
     "output_type": "execute_result"
    }
   ],
   "source": [
    "d"
   ]
  },
  {
   "cell_type": "code",
   "execution_count": 41,
   "id": "4915f658",
   "metadata": {},
   "outputs": [
    {
     "name": "stdout",
     "output_type": "stream",
     "text": [
      "{'this': 1, 'is': 1, 'a': 1, 'word': 3, 'string': 1, 'having': 1, 'many': 2, 'with': 1, 'simple': 1}\n"
     ]
    }
   ],
   "source": [
    "print(d)"
   ]
  },
  {
   "cell_type": "code",
   "execution_count": 51,
   "id": "d235b8c8",
   "metadata": {},
   "outputs": [
    {
     "name": "stdout",
     "output_type": "stream",
     "text": [
      "this \t\t 1\n",
      "is \t\t 1\n",
      "a \t\t 1\n",
      "word \t\t 3\n",
      "string \t\t 1\n",
      "having \t\t 1\n",
      "many \t\t 2\n",
      "with \t\t 1\n",
      "simple \t\t 1\n"
     ]
    }
   ],
   "source": [
    "for i in d:\n",
    "    print(i,\"\\t\\t\",d[i])"
   ]
  },
  {
   "cell_type": "code",
   "execution_count": 52,
   "id": "8284762d",
   "metadata": {},
   "outputs": [
    {
     "data": {
      "text/plain": [
       "'word'"
      ]
     },
     "execution_count": 52,
     "metadata": {},
     "output_type": "execute_result"
    }
   ],
   "source": [
    "max(d)"
   ]
  },
  {
   "cell_type": "code",
   "execution_count": null,
   "id": "b89aa564",
   "metadata": {},
   "outputs": [],
   "source": []
  }
 ],
 "metadata": {
  "kernelspec": {
   "display_name": "Python 3 (ipykernel)",
   "language": "python",
   "name": "python3"
  },
  "language_info": {
   "codemirror_mode": {
    "name": "ipython",
    "version": 3
   },
   "file_extension": ".py",
   "mimetype": "text/x-python",
   "name": "python",
   "nbconvert_exporter": "python",
   "pygments_lexer": "ipython3",
   "version": "3.9.7"
  }
 },
 "nbformat": 4,
 "nbformat_minor": 5
}

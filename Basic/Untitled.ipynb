{
 "cells": [
  {
   "cell_type": "markdown",
   "id": "e268041e",
   "metadata": {},
   "source": [
    "### Constructor"
   ]
  },
  {
   "cell_type": "code",
   "execution_count": 1,
   "id": "a73b20a8",
   "metadata": {},
   "outputs": [],
   "source": [
    "class Student:\n",
    "    #constructor\n",
    "    def __init__(self,name,age,roll=52,*args):\n",
    "        self.name =name\n",
    "        self.roll = roll\n",
    "        self.age = age"
   ]
  },
  {
   "cell_type": "code",
   "execution_count": null,
   "id": "408d6a8f",
   "metadata": {},
   "outputs": [],
   "source": []
  },
  {
   "cell_type": "code",
   "execution_count": 2,
   "id": "3ee12292",
   "metadata": {},
   "outputs": [],
   "source": [
    "s1 = Student('sana',34,21)"
   ]
  },
  {
   "cell_type": "code",
   "execution_count": 3,
   "id": "884f5469",
   "metadata": {},
   "outputs": [
    {
     "name": "stdout",
     "output_type": "stream",
     "text": [
      "{'name': 'sana', 'roll': 21, 'age': 34}\n"
     ]
    }
   ],
   "source": [
    "print(s1.__dict__)"
   ]
  },
  {
   "cell_type": "code",
   "execution_count": 4,
   "id": "55314e5c",
   "metadata": {},
   "outputs": [],
   "source": [
    "s2 = Student('Daiyan',22)"
   ]
  },
  {
   "cell_type": "code",
   "execution_count": 5,
   "id": "0d711a56",
   "metadata": {},
   "outputs": [
    {
     "name": "stdout",
     "output_type": "stream",
     "text": [
      "{'name': 'Daiyan', 'roll': 52, 'age': 22}\n"
     ]
    }
   ],
   "source": [
    "print(s2.__dict__)"
   ]
  },
  {
   "cell_type": "code",
   "execution_count": 6,
   "id": "2dc09fc8",
   "metadata": {},
   "outputs": [],
   "source": [
    "s3  = Student('Raju',55,23,'Chapra','NITIAN')"
   ]
  },
  {
   "cell_type": "code",
   "execution_count": 8,
   "id": "1e7ce305",
   "metadata": {},
   "outputs": [
    {
     "name": "stdout",
     "output_type": "stream",
     "text": [
      "{'name': 'Raju', 'roll': 23, 'age': 55}\n"
     ]
    }
   ],
   "source": [
    "print(s3.__dict__)"
   ]
  },
  {
   "cell_type": "code",
   "execution_count": null,
   "id": "cff4176d",
   "metadata": {},
   "outputs": [],
   "source": []
  }
 ],
 "metadata": {
  "kernelspec": {
   "display_name": "Python 3 (ipykernel)",
   "language": "python",
   "name": "python3"
  },
  "language_info": {
   "codemirror_mode": {
    "name": "ipython",
    "version": 3
   },
   "file_extension": ".py",
   "mimetype": "text/x-python",
   "name": "python",
   "nbconvert_exporter": "python",
   "pygments_lexer": "ipython3",
   "version": "3.9.7"
  }
 },
 "nbformat": 4,
 "nbformat_minor": 5
}

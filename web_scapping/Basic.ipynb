{
 "cells": [
  {
   "cell_type": "code",
   "execution_count": 25,
   "id": "74bacfc8",
   "metadata": {},
   "outputs": [],
   "source": [
    "html = html = '<!DOCTYPE html><html><head><title>Learning Beautiful Soup</title></head>\\\n",
    "<body><h1> About Us </h1><div class = \"first_div\"><p>Coding Ninjas Website</p>\\\n",
    "<a href=\"https://www.codingninjas.in/\">Link to Coding Ninjas Website</a>\\\n",
    "<ul><li>This</li><li>is</li><li>an</li><li>unordered</li><li>list.</li></ul>\\\n",
    "</div><p id = \"template_p\">This is a template paragraph tag</p>\\\n",
    "<a href = \"https://www.facebook.com/codingninjas/\">\\\n",
    "This is the link of our Facebook Page</a></body></html>'"
   ]
  },
  {
   "cell_type": "code",
   "execution_count": 26,
   "id": "3e4dac38",
   "metadata": {},
   "outputs": [],
   "source": [
    "data = BeautifulSoup(html,'html.parser')"
   ]
  },
  {
   "cell_type": "code",
   "execution_count": 27,
   "id": "6237b135",
   "metadata": {},
   "outputs": [
    {
     "data": {
      "text/plain": [
       "<!DOCTYPE html>\n",
       "<html><head><title>Learning Beautiful Soup</title></head><body><h1> About Us </h1><div class=\"first_div\"><p>Coding Ninjas Website</p><a href=\"https://www.codingninjas.in/\">Link to Coding Ninjas Website</a><ul><li>This</li><li>is</li><li>an</li><li>unordered</li><li>list.</li></ul></div><p id=\"template_p\">This is a template paragraph tag</p><a href=\"https://www.facebook.com/codingninjas/\">This is the link of our Facebook Page</a></body></html>"
      ]
     },
     "execution_count": 27,
     "metadata": {},
     "output_type": "execute_result"
    }
   ],
   "source": [
    "data"
   ]
  },
  {
   "cell_type": "code",
   "execution_count": 28,
   "id": "e03727c5",
   "metadata": {},
   "outputs": [
    {
     "name": "stdout",
     "output_type": "stream",
     "text": [
      "<!DOCTYPE html>\n",
      "<html>\n",
      " <head>\n",
      "  <title>\n",
      "   Learning Beautiful Soup\n",
      "  </title>\n",
      " </head>\n",
      " <body>\n",
      "  <h1>\n",
      "   About Us\n",
      "  </h1>\n",
      "  <div class=\"first_div\">\n",
      "   <p>\n",
      "    Coding Ninjas Website\n",
      "   </p>\n",
      "   <a href=\"https://www.codingninjas.in/\">\n",
      "    Link to Coding Ninjas Website\n",
      "   </a>\n",
      "   <ul>\n",
      "    <li>\n",
      "     This\n",
      "    </li>\n",
      "    <li>\n",
      "     is\n",
      "    </li>\n",
      "    <li>\n",
      "     an\n",
      "    </li>\n",
      "    <li>\n",
      "     unordered\n",
      "    </li>\n",
      "    <li>\n",
      "     list.\n",
      "    </li>\n",
      "   </ul>\n",
      "  </div>\n",
      "  <p id=\"template_p\">\n",
      "   This is a template paragraph tag\n",
      "  </p>\n",
      "  <a href=\"https://www.facebook.com/codingninjas/\">\n",
      "   This is the link of our Facebook Page\n",
      "  </a>\n",
      " </body>\n",
      "</html>\n"
     ]
    }
   ],
   "source": [
    "print(data.prettify())"
   ]
  },
  {
   "cell_type": "code",
   "execution_count": 29,
   "id": "30556a62",
   "metadata": {},
   "outputs": [
    {
     "data": {
      "text/plain": [
       "<title>Learning Beautiful Soup</title>"
      ]
     },
     "execution_count": 29,
     "metadata": {},
     "output_type": "execute_result"
    }
   ],
   "source": [
    "data.title"
   ]
  },
  {
   "cell_type": "code",
   "execution_count": 30,
   "id": "c44d371c",
   "metadata": {},
   "outputs": [
    {
     "data": {
      "text/plain": [
       "<head><title>Learning Beautiful Soup</title></head>"
      ]
     },
     "execution_count": 30,
     "metadata": {},
     "output_type": "execute_result"
    }
   ],
   "source": [
    "data.head"
   ]
  },
  {
   "cell_type": "code",
   "execution_count": 31,
   "id": "162320a4",
   "metadata": {},
   "outputs": [
    {
     "data": {
      "text/plain": [
       "'head'"
      ]
     },
     "execution_count": 31,
     "metadata": {},
     "output_type": "execute_result"
    }
   ],
   "source": [
    "data.head.name"
   ]
  },
  {
   "cell_type": "code",
   "execution_count": 32,
   "id": "090d6daa",
   "metadata": {},
   "outputs": [
    {
     "data": {
      "text/plain": [
       "'title'"
      ]
     },
     "execution_count": 32,
     "metadata": {},
     "output_type": "execute_result"
    }
   ],
   "source": [
    "data.title.name"
   ]
  },
  {
   "cell_type": "code",
   "execution_count": 33,
   "id": "d6648137",
   "metadata": {},
   "outputs": [
    {
     "data": {
      "text/plain": [
       "<h1> About Us </h1>"
      ]
     },
     "execution_count": 33,
     "metadata": {},
     "output_type": "execute_result"
    }
   ],
   "source": [
    "data.h1"
   ]
  },
  {
   "cell_type": "code",
   "execution_count": 35,
   "id": "edc442d4",
   "metadata": {},
   "outputs": [
    {
     "name": "stdout",
     "output_type": "stream",
     "text": [
      "h1\n"
     ]
    }
   ],
   "source": [
    "print(data.h1.name)"
   ]
  },
  {
   "cell_type": "code",
   "execution_count": 36,
   "id": "896e761b",
   "metadata": {},
   "outputs": [
    {
     "name": "stdout",
     "output_type": "stream",
     "text": [
      " About Us \n"
     ]
    }
   ],
   "source": [
    "print(data.h1.string)"
   ]
  },
  {
   "cell_type": "code",
   "execution_count": 37,
   "id": "99672826",
   "metadata": {},
   "outputs": [
    {
     "data": {
      "text/plain": [
       "{}"
      ]
     },
     "execution_count": 37,
     "metadata": {},
     "output_type": "execute_result"
    }
   ],
   "source": [
    "data.title.attrs"
   ]
  },
  {
   "cell_type": "code",
   "execution_count": 39,
   "id": "5d3205c0",
   "metadata": {},
   "outputs": [
    {
     "name": "stdout",
     "output_type": "stream",
     "text": [
      "{}\n"
     ]
    }
   ],
   "source": [
    "print(data.p.attrs)"
   ]
  },
  {
   "cell_type": "code",
   "execution_count": 41,
   "id": "004ed2d7",
   "metadata": {},
   "outputs": [
    {
     "data": {
      "text/plain": [
       "<p>Coding Ninjas Website</p>"
      ]
     },
     "execution_count": 41,
     "metadata": {},
     "output_type": "execute_result"
    }
   ],
   "source": [
    "data.find('p')"
   ]
  },
  {
   "cell_type": "code",
   "execution_count": 43,
   "id": "e613ad54",
   "metadata": {},
   "outputs": [
    {
     "data": {
      "text/plain": [
       "[<p>Coding Ninjas Website</p>,\n",
       " <p id=\"template_p\">This is a template paragraph tag</p>]"
      ]
     },
     "execution_count": 43,
     "metadata": {},
     "output_type": "execute_result"
    }
   ],
   "source": [
    "data.find_all('p')"
   ]
  },
  {
   "cell_type": "code",
   "execution_count": 44,
   "id": "e7876399",
   "metadata": {},
   "outputs": [],
   "source": [
    "li = data.find_all('p')"
   ]
  },
  {
   "cell_type": "code",
   "execution_count": 45,
   "id": "d4ae2f91",
   "metadata": {},
   "outputs": [
    {
     "data": {
      "text/plain": [
       "[<p>Coding Ninjas Website</p>,\n",
       " <p id=\"template_p\">This is a template paragraph tag</p>]"
      ]
     },
     "execution_count": 45,
     "metadata": {},
     "output_type": "execute_result"
    }
   ],
   "source": [
    "li"
   ]
  },
  {
   "cell_type": "code",
   "execution_count": 46,
   "id": "ebdd13f5",
   "metadata": {},
   "outputs": [
    {
     "name": "stdout",
     "output_type": "stream",
     "text": [
      "<p>Coding Ninjas Website</p>\n",
      "<p id=\"template_p\">This is a template paragraph tag</p>\n"
     ]
    }
   ],
   "source": [
    "for i in li:\n",
    "    print(i)"
   ]
  },
  {
   "cell_type": "code",
   "execution_count": 48,
   "id": "33f7439e",
   "metadata": {},
   "outputs": [
    {
     "name": "stdout",
     "output_type": "stream",
     "text": [
      "Coding Ninjas Website\n",
      "This is a template paragraph tag\n"
     ]
    }
   ],
   "source": [
    "for i in li:\n",
    "    print(i.string)"
   ]
  },
  {
   "cell_type": "code",
   "execution_count": 50,
   "id": "5b1044de",
   "metadata": {},
   "outputs": [
    {
     "name": "stdout",
     "output_type": "stream",
     "text": [
      "['Coding Ninjas Website']\n",
      "['This is a template paragraph tag']\n"
     ]
    }
   ],
   "source": [
    "for i in li:\n",
    "    print(list(i.strings))"
   ]
  },
  {
   "cell_type": "code",
   "execution_count": 52,
   "id": "66c3b74b",
   "metadata": {},
   "outputs": [
    {
     "name": "stdout",
     "output_type": "stream",
     "text": [
      "['Coding Ninjas Website']\n",
      "['This is a template paragraph tag']\n"
     ]
    }
   ],
   "source": [
    "for i in li:\n",
    "    print((list(i.stripped_strings)))   # remove extra space"
   ]
  },
  {
   "cell_type": "code",
   "execution_count": 53,
   "id": "db840158",
   "metadata": {},
   "outputs": [],
   "source": [
    "content = data.html.contents"
   ]
  },
  {
   "cell_type": "code",
   "execution_count": 54,
   "id": "0027f4cd",
   "metadata": {},
   "outputs": [
    {
     "data": {
      "text/plain": [
       "[<head><title>Learning Beautiful Soup</title></head>,\n",
       " <body><h1> About Us </h1><div class=\"first_div\"><p>Coding Ninjas Website</p><a href=\"https://www.codingninjas.in/\">Link to Coding Ninjas Website</a><ul><li>This</li><li>is</li><li>an</li><li>unordered</li><li>list.</li></ul></div><p id=\"template_p\">This is a template paragraph tag</p><a href=\"https://www.facebook.com/codingninjas/\">This is the link of our Facebook Page</a></body>]"
      ]
     },
     "execution_count": 54,
     "metadata": {},
     "output_type": "execute_result"
    }
   ],
   "source": [
    "content"
   ]
  },
  {
   "cell_type": "code",
   "execution_count": 56,
   "id": "e80ce0de",
   "metadata": {},
   "outputs": [
    {
     "data": {
      "text/plain": [
       "2"
      ]
     },
     "execution_count": 56,
     "metadata": {},
     "output_type": "execute_result"
    }
   ],
   "source": [
    "len(content)"
   ]
  },
  {
   "cell_type": "code",
   "execution_count": 57,
   "id": "2f3195f5",
   "metadata": {},
   "outputs": [
    {
     "data": {
      "text/plain": [
       "<list_iterator at 0x7fc84e3a9d60>"
      ]
     },
     "execution_count": 57,
     "metadata": {},
     "output_type": "execute_result"
    }
   ],
   "source": [
    "data.html.children"
   ]
  },
  {
   "cell_type": "code",
   "execution_count": 58,
   "id": "3a0dcb24",
   "metadata": {},
   "outputs": [
    {
     "data": {
      "text/plain": [
       "<list_iterator at 0x7fc84e3a9340>"
      ]
     },
     "execution_count": 58,
     "metadata": {},
     "output_type": "execute_result"
    }
   ],
   "source": [
    "li_2 = data.html.children  \n",
    "li_2"
   ]
  },
  {
   "cell_type": "code",
   "execution_count": 59,
   "id": "124bc341",
   "metadata": {},
   "outputs": [
    {
     "name": "stdout",
     "output_type": "stream",
     "text": [
      "<head><title>Learning Beautiful Soup</title></head>\n",
      "<body><h1> About Us </h1><div class=\"first_div\"><p>Coding Ninjas Website</p><a href=\"https://www.codingninjas.in/\">Link to Coding Ninjas Website</a><ul><li>This</li><li>is</li><li>an</li><li>unordered</li><li>list.</li></ul></div><p id=\"template_p\">This is a template paragraph tag</p><a href=\"https://www.facebook.com/codingninjas/\">This is the link of our Facebook Page</a></body>\n"
     ]
    }
   ],
   "source": [
    "for i in li_2:\n",
    "    print(i)"
   ]
  },
  {
   "cell_type": "code",
   "execution_count": 60,
   "id": "700d37d9",
   "metadata": {},
   "outputs": [
    {
     "data": {
      "text/plain": [
       "<generator object Tag.descendants at 0x7fc84e445ac0>"
      ]
     },
     "execution_count": 60,
     "metadata": {},
     "output_type": "execute_result"
    }
   ],
   "source": [
    "data.html.descendants"
   ]
  },
  {
   "cell_type": "code",
   "execution_count": 61,
   "id": "1c5864bc",
   "metadata": {},
   "outputs": [
    {
     "data": {
      "text/plain": [
       "[<head><title>Learning Beautiful Soup</title></head>,\n",
       " <title>Learning Beautiful Soup</title>,\n",
       " 'Learning Beautiful Soup',\n",
       " <body><h1> About Us </h1><div class=\"first_div\"><p>Coding Ninjas Website</p><a href=\"https://www.codingninjas.in/\">Link to Coding Ninjas Website</a><ul><li>This</li><li>is</li><li>an</li><li>unordered</li><li>list.</li></ul></div><p id=\"template_p\">This is a template paragraph tag</p><a href=\"https://www.facebook.com/codingninjas/\">This is the link of our Facebook Page</a></body>,\n",
       " <h1> About Us </h1>,\n",
       " ' About Us ',\n",
       " <div class=\"first_div\"><p>Coding Ninjas Website</p><a href=\"https://www.codingninjas.in/\">Link to Coding Ninjas Website</a><ul><li>This</li><li>is</li><li>an</li><li>unordered</li><li>list.</li></ul></div>,\n",
       " <p>Coding Ninjas Website</p>,\n",
       " 'Coding Ninjas Website',\n",
       " <a href=\"https://www.codingninjas.in/\">Link to Coding Ninjas Website</a>,\n",
       " 'Link to Coding Ninjas Website',\n",
       " <ul><li>This</li><li>is</li><li>an</li><li>unordered</li><li>list.</li></ul>,\n",
       " <li>This</li>,\n",
       " 'This',\n",
       " <li>is</li>,\n",
       " 'is',\n",
       " <li>an</li>,\n",
       " 'an',\n",
       " <li>unordered</li>,\n",
       " 'unordered',\n",
       " <li>list.</li>,\n",
       " 'list.',\n",
       " <p id=\"template_p\">This is a template paragraph tag</p>,\n",
       " 'This is a template paragraph tag',\n",
       " <a href=\"https://www.facebook.com/codingninjas/\">This is the link of our Facebook Page</a>,\n",
       " 'This is the link of our Facebook Page']"
      ]
     },
     "execution_count": 61,
     "metadata": {},
     "output_type": "execute_result"
    }
   ],
   "source": [
    "list(data.html.descendants)"
   ]
  },
  {
   "cell_type": "code",
   "execution_count": 62,
   "id": "865c2b28",
   "metadata": {},
   "outputs": [],
   "source": [
    "li_3 = list(data.html.descendants)"
   ]
  },
  {
   "cell_type": "code",
   "execution_count": 64,
   "id": "f9f5334c",
   "metadata": {},
   "outputs": [
    {
     "name": "stdout",
     "output_type": "stream",
     "text": [
      "<head><title>Learning Beautiful Soup</title></head>\n",
      "<title>Learning Beautiful Soup</title>\n",
      "Learning Beautiful Soup\n",
      "<body><h1> About Us </h1><div class=\"first_div\"><p>Coding Ninjas Website</p><a href=\"https://www.codingninjas.in/\">Link to Coding Ninjas Website</a><ul><li>This</li><li>is</li><li>an</li><li>unordered</li><li>list.</li></ul></div><p id=\"template_p\">This is a template paragraph tag</p><a href=\"https://www.facebook.com/codingninjas/\">This is the link of our Facebook Page</a></body>\n",
      "<h1> About Us </h1>\n",
      " About Us \n",
      "<div class=\"first_div\"><p>Coding Ninjas Website</p><a href=\"https://www.codingninjas.in/\">Link to Coding Ninjas Website</a><ul><li>This</li><li>is</li><li>an</li><li>unordered</li><li>list.</li></ul></div>\n",
      "<p>Coding Ninjas Website</p>\n",
      "Coding Ninjas Website\n",
      "<a href=\"https://www.codingninjas.in/\">Link to Coding Ninjas Website</a>\n",
      "Link to Coding Ninjas Website\n",
      "<ul><li>This</li><li>is</li><li>an</li><li>unordered</li><li>list.</li></ul>\n",
      "<li>This</li>\n",
      "This\n",
      "<li>is</li>\n",
      "is\n",
      "<li>an</li>\n",
      "an\n",
      "<li>unordered</li>\n",
      "unordered\n",
      "<li>list.</li>\n",
      "list.\n",
      "<p id=\"template_p\">This is a template paragraph tag</p>\n",
      "This is a template paragraph tag\n",
      "<a href=\"https://www.facebook.com/codingninjas/\">This is the link of our Facebook Page</a>\n",
      "This is the link of our Facebook Page\n"
     ]
    }
   ],
   "source": [
    "for i in li_3:\n",
    "    print(i)"
   ]
  },
  {
   "cell_type": "code",
   "execution_count": 65,
   "id": "0000565f",
   "metadata": {},
   "outputs": [
    {
     "data": {
      "text/plain": [
       "26"
      ]
     },
     "execution_count": 65,
     "metadata": {},
     "output_type": "execute_result"
    }
   ],
   "source": [
    "len(li_3)"
   ]
  },
  {
   "cell_type": "code",
   "execution_count": 66,
   "id": "641a5022",
   "metadata": {},
   "outputs": [
    {
     "data": {
      "text/plain": [
       "[<head><title>Learning Beautiful Soup</title></head>,\n",
       " <title>Learning Beautiful Soup</title>,\n",
       " 'Learning Beautiful Soup',\n",
       " <body><h1> About Us </h1><div class=\"first_div\"><p>Coding Ninjas Website</p><a href=\"https://www.codingninjas.in/\">Link to Coding Ninjas Website</a><ul><li>This</li><li>is</li><li>an</li><li>unordered</li><li>list.</li></ul></div><p id=\"template_p\">This is a template paragraph tag</p><a href=\"https://www.facebook.com/codingninjas/\">This is the link of our Facebook Page</a></body>,\n",
       " <h1> About Us </h1>,\n",
       " ' About Us ',\n",
       " <div class=\"first_div\"><p>Coding Ninjas Website</p><a href=\"https://www.codingninjas.in/\">Link to Coding Ninjas Website</a><ul><li>This</li><li>is</li><li>an</li><li>unordered</li><li>list.</li></ul></div>,\n",
       " <p>Coding Ninjas Website</p>,\n",
       " 'Coding Ninjas Website',\n",
       " <a href=\"https://www.codingninjas.in/\">Link to Coding Ninjas Website</a>,\n",
       " 'Link to Coding Ninjas Website',\n",
       " <ul><li>This</li><li>is</li><li>an</li><li>unordered</li><li>list.</li></ul>,\n",
       " <li>This</li>,\n",
       " 'This',\n",
       " <li>is</li>,\n",
       " 'is',\n",
       " <li>an</li>,\n",
       " 'an',\n",
       " <li>unordered</li>,\n",
       " 'unordered',\n",
       " <li>list.</li>,\n",
       " 'list.',\n",
       " <p id=\"template_p\">This is a template paragraph tag</p>,\n",
       " 'This is a template paragraph tag',\n",
       " <a href=\"https://www.facebook.com/codingninjas/\">This is the link of our Facebook Page</a>,\n",
       " 'This is the link of our Facebook Page']"
      ]
     },
     "execution_count": 66,
     "metadata": {},
     "output_type": "execute_result"
    }
   ],
   "source": [
    "li_3"
   ]
  },
  {
   "cell_type": "code",
   "execution_count": 69,
   "id": "c1726b93",
   "metadata": {},
   "outputs": [
    {
     "data": {
      "text/plain": [
       "<!DOCTYPE html>\n",
       "<html><head><title>Learning Beautiful Soup</title></head><body><h1> About Us </h1><div class=\"first_div\"><p>Coding Ninjas Website</p><a href=\"https://www.codingninjas.in/\">Link to Coding Ninjas Website</a><ul><li>This</li><li>is</li><li>an</li><li>unordered</li><li>list.</li></ul></div><p id=\"template_p\">This is a template paragraph tag</p><a href=\"https://www.facebook.com/codingninjas/\">This is the link of our Facebook Page</a></body></html>"
      ]
     },
     "execution_count": 69,
     "metadata": {},
     "output_type": "execute_result"
    }
   ],
   "source": [
    "p1 = data.html.parent\n",
    "p1"
   ]
  },
  {
   "cell_type": "code",
   "execution_count": 70,
   "id": "a2b51f38",
   "metadata": {},
   "outputs": [
    {
     "data": {
      "text/plain": [
       "<generator object PageElement.parents at 0x7fc84e44e0b0>"
      ]
     },
     "execution_count": 70,
     "metadata": {},
     "output_type": "execute_result"
    }
   ],
   "source": [
    "p2 = data.html.parents\n",
    "p2"
   ]
  },
  {
   "cell_type": "code",
   "execution_count": 71,
   "id": "7fe574ec",
   "metadata": {},
   "outputs": [],
   "source": [
    "p2 = list(data.html.parents)"
   ]
  },
  {
   "cell_type": "code",
   "execution_count": 72,
   "id": "41543383",
   "metadata": {},
   "outputs": [
    {
     "data": {
      "text/plain": [
       "[<!DOCTYPE html>\n",
       " <html><head><title>Learning Beautiful Soup</title></head><body><h1> About Us </h1><div class=\"first_div\"><p>Coding Ninjas Website</p><a href=\"https://www.codingninjas.in/\">Link to Coding Ninjas Website</a><ul><li>This</li><li>is</li><li>an</li><li>unordered</li><li>list.</li></ul></div><p id=\"template_p\">This is a template paragraph tag</p><a href=\"https://www.facebook.com/codingninjas/\">This is the link of our Facebook Page</a></body></html>]"
      ]
     },
     "execution_count": 72,
     "metadata": {},
     "output_type": "execute_result"
    }
   ],
   "source": [
    "p2"
   ]
  },
  {
   "cell_type": "code",
   "execution_count": null,
   "id": "c9702aca",
   "metadata": {},
   "outputs": [],
   "source": []
  }
 ],
 "metadata": {
  "kernelspec": {
   "display_name": "Python 3 (ipykernel)",
   "language": "python",
   "name": "python3"
  },
  "language_info": {
   "codemirror_mode": {
    "name": "ipython",
    "version": 3
   },
   "file_extension": ".py",
   "mimetype": "text/x-python",
   "name": "python",
   "nbconvert_exporter": "python",
   "pygments_lexer": "ipython3",
   "version": "3.9.7"
  }
 },
 "nbformat": 4,
 "nbformat_minor": 5
}

{
 "cells": [
  {
   "cell_type": "markdown",
   "id": "39a76b87",
   "metadata": {},
   "source": [
    "### String is immutable in python"
   ]
  },
  {
   "cell_type": "code",
   "execution_count": 2,
   "id": "b341b148",
   "metadata": {},
   "outputs": [
    {
     "name": "stdout",
     "output_type": "stream",
     "text": [
      "Daiyan alam"
     ]
    }
   ],
   "source": [
    "name = 'Daiyan alam'\n",
    "for i in name:\n",
    "    print(i,end='')"
   ]
  },
  {
   "cell_type": "code",
   "execution_count": 3,
   "id": "eb559374",
   "metadata": {},
   "outputs": [
    {
     "name": "stdout",
     "output_type": "stream",
     "text": [
      "D\n"
     ]
    }
   ],
   "source": [
    "print(name[0])"
   ]
  },
  {
   "cell_type": "code",
   "execution_count": 4,
   "id": "57092274",
   "metadata": {},
   "outputs": [
    {
     "name": "stdout",
     "output_type": "stream",
     "text": [
      "<class 'str'>\n"
     ]
    }
   ],
   "source": [
    "print(type(name[1]))"
   ]
  },
  {
   "cell_type": "code",
   "execution_count": 6,
   "id": "7891d9a7",
   "metadata": {},
   "outputs": [
    {
     "name": "stdout",
     "output_type": "stream",
     "text": [
      "11\n"
     ]
    }
   ],
   "source": [
    "print(len(name))"
   ]
  },
  {
   "cell_type": "code",
   "execution_count": 12,
   "id": "273a8c7e",
   "metadata": {},
   "outputs": [
    {
     "name": "stdout",
     "output_type": "stream",
     "text": [
      "India's prime minister\n"
     ]
    }
   ],
   "source": [
    "str = 'India\\'s prime minister'\n",
    "print(str)"
   ]
  },
  {
   "cell_type": "code",
   "execution_count": 17,
   "id": "985afdc6",
   "metadata": {},
   "outputs": [
    {
     "name": "stdout",
     "output_type": "stream",
     "text": [
      "Daiyanalam\n"
     ]
    }
   ],
   "source": [
    "fName='Daiyan'\n",
    "lName='alam'\n",
    "print(fName+lName)\n"
   ]
  },
  {
   "cell_type": "code",
   "execution_count": 18,
   "id": "e5cf4081",
   "metadata": {},
   "outputs": [
    {
     "name": "stdout",
     "output_type": "stream",
     "text": [
      "False\n"
     ]
    }
   ],
   "source": [
    "print(fName>lName)"
   ]
  },
  {
   "cell_type": "code",
   "execution_count": 20,
   "id": "0b2c8079",
   "metadata": {},
   "outputs": [
    {
     "data": {
      "text/plain": [
       "['Hey', 'bro', \"it's\", 'me']"
      ]
     },
     "execution_count": 20,
     "metadata": {},
     "output_type": "execute_result"
    }
   ],
   "source": [
    "me = 'Hey bro it\\'s me'\n",
    "me.split()"
   ]
  },
  {
   "cell_type": "code",
   "execution_count": 22,
   "id": "8d3b7dd6",
   "metadata": {},
   "outputs": [
    {
     "data": {
      "text/plain": [
       "['H', \"y bro it's m\", '']"
      ]
     },
     "execution_count": 22,
     "metadata": {},
     "output_type": "execute_result"
    }
   ],
   "source": [
    "me.split('e')"
   ]
  },
  {
   "cell_type": "code",
   "execution_count": 24,
   "id": "345522d6",
   "metadata": {},
   "outputs": [
    {
     "data": {
      "text/plain": [
       "\"Hey aro it's me\""
      ]
     },
     "execution_count": 24,
     "metadata": {},
     "output_type": "execute_result"
    }
   ],
   "source": [
    "me.replace('b','a')"
   ]
  },
  {
   "cell_type": "code",
   "execution_count": 25,
   "id": "a82063bb",
   "metadata": {},
   "outputs": [
    {
     "data": {
      "text/plain": [
       "13"
      ]
     },
     "execution_count": 25,
     "metadata": {},
     "output_type": "execute_result"
    }
   ],
   "source": [
    "me.find('me')"
   ]
  },
  {
   "cell_type": "code",
   "execution_count": 27,
   "id": "18926ebc",
   "metadata": {},
   "outputs": [
    {
     "data": {
      "text/plain": [
       "-1"
      ]
     },
     "execution_count": 27,
     "metadata": {},
     "output_type": "execute_result"
    }
   ],
   "source": [
    "me.find('sss')"
   ]
  },
  {
   "cell_type": "code",
   "execution_count": 28,
   "id": "33da8a07",
   "metadata": {},
   "outputs": [
    {
     "data": {
      "text/plain": [
       "\"HEY BRO IT'S ME\""
      ]
     },
     "execution_count": 28,
     "metadata": {},
     "output_type": "execute_result"
    }
   ],
   "source": [
    "me.upper()"
   ]
  },
  {
   "cell_type": "code",
   "execution_count": null,
   "id": "f55b09e2",
   "metadata": {},
   "outputs": [],
   "source": []
  }
 ],
 "metadata": {
  "kernelspec": {
   "display_name": "Python 3 (ipykernel)",
   "language": "python",
   "name": "python3"
  },
  "language_info": {
   "codemirror_mode": {
    "name": "ipython",
    "version": 3
   },
   "file_extension": ".py",
   "mimetype": "text/x-python",
   "name": "python",
   "nbconvert_exporter": "python",
   "pygments_lexer": "ipython3",
   "version": "3.9.7"
  }
 },
 "nbformat": 4,
 "nbformat_minor": 5
}

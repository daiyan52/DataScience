{
 "cells": [
  {
   "cell_type": "code",
   "execution_count": 1,
   "id": "195d2c17",
   "metadata": {},
   "outputs": [],
   "source": [
    "class Student:\n",
    "    pass\n",
    "s1 = Student()\n",
    "s2 = Student()\n",
    "s3 = Student()"
   ]
  },
  {
   "cell_type": "code",
   "execution_count": 2,
   "id": "290bd386",
   "metadata": {},
   "outputs": [],
   "source": [
    "s1.name =\"Daiyan alam\"\n",
    "s1.roll=53"
   ]
  },
  {
   "cell_type": "code",
   "execution_count": 3,
   "id": "4fcbf1a1",
   "metadata": {},
   "outputs": [
    {
     "name": "stdout",
     "output_type": "stream",
     "text": [
      "{'name': 'Daiyan alam', 'roll': 53}\n"
     ]
    }
   ],
   "source": [
    "print(s1.__dict__)"
   ]
  },
  {
   "cell_type": "code",
   "execution_count": 4,
   "id": "50b59550",
   "metadata": {},
   "outputs": [],
   "source": [
    "s2.name = \"Raju\"\n",
    "s2.age = 23"
   ]
  },
  {
   "cell_type": "code",
   "execution_count": 5,
   "id": "09c2cb61",
   "metadata": {},
   "outputs": [
    {
     "name": "stdout",
     "output_type": "stream",
     "text": [
      "{'name': 'Raju', 'age': 23}\n"
     ]
    }
   ],
   "source": [
    "print(s2.__dict__)"
   ]
  },
  {
   "cell_type": "code",
   "execution_count": 6,
   "id": "c33f6c7a",
   "metadata": {},
   "outputs": [
    {
     "data": {
      "text/plain": [
       "{}"
      ]
     },
     "execution_count": 6,
     "metadata": {},
     "output_type": "execute_result"
    }
   ],
   "source": [
    "s3.__dict__"
   ]
  },
  {
   "cell_type": "code",
   "execution_count": 7,
   "id": "eceb8cd3",
   "metadata": {},
   "outputs": [
    {
     "name": "stdout",
     "output_type": "stream",
     "text": [
      "Daiyan alam\n"
     ]
    }
   ],
   "source": [
    "print(s1.name)"
   ]
  },
  {
   "cell_type": "code",
   "execution_count": 8,
   "id": "1cc87659",
   "metadata": {},
   "outputs": [
    {
     "name": "stdout",
     "output_type": "stream",
     "text": [
      "True\n"
     ]
    }
   ],
   "source": [
    "print(hasattr(s1,'name'))"
   ]
  },
  {
   "cell_type": "code",
   "execution_count": 9,
   "id": "8717504a",
   "metadata": {},
   "outputs": [
    {
     "name": "stdout",
     "output_type": "stream",
     "text": [
      "False\n"
     ]
    }
   ],
   "source": [
    "print(hasattr(s3,'name'))"
   ]
  },
  {
   "cell_type": "code",
   "execution_count": 10,
   "id": "1755b0df",
   "metadata": {},
   "outputs": [
    {
     "name": "stdout",
     "output_type": "stream",
     "text": [
      "Daiyan alam\n"
     ]
    }
   ],
   "source": [
    "print(getattr(s1,'name'))"
   ]
  },
  {
   "cell_type": "code",
   "execution_count": 11,
   "id": "631d52e6",
   "metadata": {},
   "outputs": [
    {
     "name": "stdout",
     "output_type": "stream",
     "text": [
      "Anish\n"
     ]
    }
   ],
   "source": [
    "print(getattr(s3,'name','Anish'))"
   ]
  },
  {
   "cell_type": "code",
   "execution_count": 12,
   "id": "6e1ca546",
   "metadata": {},
   "outputs": [],
   "source": [
    "delattr(s2,'name')"
   ]
  },
  {
   "cell_type": "code",
   "execution_count": 13,
   "id": "c7255e3e",
   "metadata": {},
   "outputs": [
    {
     "name": "stdout",
     "output_type": "stream",
     "text": [
      "{'age': 23}\n"
     ]
    }
   ],
   "source": [
    "print(s2.__dict__)"
   ]
  },
  {
   "cell_type": "markdown",
   "id": "1f996e1d",
   "metadata": {},
   "source": [
    "### class Attribute"
   ]
  },
  {
   "cell_type": "code",
   "execution_count": 14,
   "id": "c5921e43",
   "metadata": {},
   "outputs": [
    {
     "name": "stdout",
     "output_type": "stream",
     "text": [
      "{'__module__': '__main__', '__dict__': <attribute '__dict__' of 'Student' objects>, '__weakref__': <attribute '__weakref__' of 'Student' objects>, '__doc__': None}\n"
     ]
    }
   ],
   "source": [
    "print(Student.__dict__)"
   ]
  },
  {
   "cell_type": "code",
   "execution_count": 15,
   "id": "5611f383",
   "metadata": {},
   "outputs": [],
   "source": [
    "class Hostel:\n",
    "    # class Attribute\n",
    "    HostelName = 'Narula Boys Hostel'\n",
    "    HostelNumber = 1\n",
    "    \n",
    "    # method Attribute\n",
    "    def printHello(self):\n",
    "        print('Hello')\n",
    "    def wish(self,str):\n",
    "        print(str)\n",
    "h1 = Hostel()"
   ]
  },
  {
   "cell_type": "code",
   "execution_count": 16,
   "id": "b58ede73",
   "metadata": {},
   "outputs": [
    {
     "name": "stdout",
     "output_type": "stream",
     "text": [
      "{'__module__': '__main__', 'HostelName': 'Narula Boys Hostel', 'HostelNumber': 1, 'printHello': <function Hostel.printHello at 0x7fc3c00dee50>, 'wish': <function Hostel.wish at 0x7fc3c00deee0>, '__dict__': <attribute '__dict__' of 'Hostel' objects>, '__weakref__': <attribute '__weakref__' of 'Hostel' objects>, '__doc__': None}\n"
     ]
    }
   ],
   "source": [
    "print(Hostel.__dict__)"
   ]
  },
  {
   "cell_type": "code",
   "execution_count": 17,
   "id": "8e9123d6",
   "metadata": {},
   "outputs": [],
   "source": [
    "Hostel.warden = 'Swapan'"
   ]
  },
  {
   "cell_type": "code",
   "execution_count": 18,
   "id": "ab1614e6",
   "metadata": {},
   "outputs": [
    {
     "name": "stdout",
     "output_type": "stream",
     "text": [
      "{'__module__': '__main__', 'HostelName': 'Narula Boys Hostel', 'HostelNumber': 1, 'printHello': <function Hostel.printHello at 0x7fc3c00dee50>, 'wish': <function Hostel.wish at 0x7fc3c00deee0>, '__dict__': <attribute '__dict__' of 'Hostel' objects>, '__weakref__': <attribute '__weakref__' of 'Hostel' objects>, '__doc__': None, 'warden': 'Swapan'}\n"
     ]
    }
   ],
   "source": [
    "print(Hostel.__dict__)"
   ]
  },
  {
   "cell_type": "code",
   "execution_count": 19,
   "id": "6cb29b0d",
   "metadata": {},
   "outputs": [
    {
     "name": "stdout",
     "output_type": "stream",
     "text": [
      "Swapan\n"
     ]
    }
   ],
   "source": [
    "print(Hostel.warden)"
   ]
  },
  {
   "cell_type": "code",
   "execution_count": 20,
   "id": "b65b1583",
   "metadata": {},
   "outputs": [
    {
     "name": "stdout",
     "output_type": "stream",
     "text": [
      "Narula Boys Hostel\n"
     ]
    }
   ],
   "source": [
    "print(Hostel.HostelName)"
   ]
  },
  {
   "cell_type": "code",
   "execution_count": 21,
   "id": "07cc3436",
   "metadata": {},
   "outputs": [
    {
     "name": "stdout",
     "output_type": "stream",
     "text": [
      "Hello\n"
     ]
    }
   ],
   "source": [
    "Hostel.printHello(h1)"
   ]
  },
  {
   "cell_type": "code",
   "execution_count": 22,
   "id": "08a7f716",
   "metadata": {},
   "outputs": [
    {
     "name": "stdout",
     "output_type": "stream",
     "text": [
      "Hello\n"
     ]
    }
   ],
   "source": [
    "h1.printHello()"
   ]
  },
  {
   "cell_type": "code",
   "execution_count": 23,
   "id": "31d48108",
   "metadata": {},
   "outputs": [
    {
     "name": "stdout",
     "output_type": "stream",
     "text": [
      "Hiiii\n"
     ]
    }
   ],
   "source": [
    "h1.wish('Hiiii')"
   ]
  },
  {
   "cell_type": "markdown",
   "id": "e5b693aa",
   "metadata": {},
   "source": [
    "### constructor"
   ]
  },
  {
   "cell_type": "code",
   "execution_count": null,
   "id": "6a2e5f21",
   "metadata": {},
   "outputs": [],
   "source": []
  }
 ],
 "metadata": {
  "kernelspec": {
   "display_name": "Python 3 (ipykernel)",
   "language": "python",
   "name": "python3"
  },
  "language_info": {
   "codemirror_mode": {
    "name": "ipython",
    "version": 3
   },
   "file_extension": ".py",
   "mimetype": "text/x-python",
   "name": "python",
   "nbconvert_exporter": "python",
   "pygments_lexer": "ipython3",
   "version": "3.9.7"
  }
 },
 "nbformat": 4,
 "nbformat_minor": 5
}
